{
  "cells": [
    {
      "cell_type": "markdown",
      "metadata": {
        "id": "RpZaDwjsCLky"
      },
      "source": [
        "# Task 1: Knowledge Graphs\n",
        "## 1.1 AFIB dataset"
      ]
    },
    {
      "cell_type": "markdown",
      "metadata": {
        "id": "gAjUcu3XGBSs"
      },
      "source": [
        "#### 1.1.0 Install and import libraries"
      ]
    },
    {
      "cell_type": "code",
      "execution_count": null,
      "metadata": {
        "colab": {
          "base_uri": "https://localhost:8080/"
        },
        "id": "Vxf169rDGA5-",
        "outputId": "33018536-5885-4a85-ee42-ca9c85536965"
      },
      "outputs": [
        {
          "output_type": "stream",
          "name": "stdout",
          "text": [
            "Looking in links: https://pytorch-geometric.com/whl/torch-1.13.1+cu116.html\n",
            "Collecting torch-geometric\n",
            "  Downloading torch_geometric-2.4.0-py3-none-any.whl (1.0 MB)\n",
            "\u001b[2K     \u001b[90m━━━━━━━━━━━━━━━━━━━━━━━━━━━━━━━━━━━━━━━━\u001b[0m \u001b[32m1.0/1.0 MB\u001b[0m \u001b[31m17.1 MB/s\u001b[0m eta \u001b[36m0:00:00\u001b[0m\n",
            "\u001b[?25hRequirement already satisfied: tqdm in /usr/local/lib/python3.10/dist-packages (from torch-geometric) (4.66.1)\n",
            "Requirement already satisfied: numpy in /usr/local/lib/python3.10/dist-packages (from torch-geometric) (1.23.5)\n",
            "Requirement already satisfied: scipy in /usr/local/lib/python3.10/dist-packages (from torch-geometric) (1.11.3)\n",
            "Requirement already satisfied: jinja2 in /usr/local/lib/python3.10/dist-packages (from torch-geometric) (3.1.2)\n",
            "Requirement already satisfied: requests in /usr/local/lib/python3.10/dist-packages (from torch-geometric) (2.31.0)\n",
            "Requirement already satisfied: pyparsing in /usr/local/lib/python3.10/dist-packages (from torch-geometric) (3.1.1)\n",
            "Requirement already satisfied: scikit-learn in /usr/local/lib/python3.10/dist-packages (from torch-geometric) (1.2.2)\n",
            "Requirement already satisfied: psutil>=5.8.0 in /usr/local/lib/python3.10/dist-packages (from torch-geometric) (5.9.5)\n",
            "Requirement already satisfied: MarkupSafe>=2.0 in /usr/local/lib/python3.10/dist-packages (from jinja2->torch-geometric) (2.1.3)\n",
            "Requirement already satisfied: charset-normalizer<4,>=2 in /usr/local/lib/python3.10/dist-packages (from requests->torch-geometric) (3.3.2)\n",
            "Requirement already satisfied: idna<4,>=2.5 in /usr/local/lib/python3.10/dist-packages (from requests->torch-geometric) (3.4)\n",
            "Requirement already satisfied: urllib3<3,>=1.21.1 in /usr/local/lib/python3.10/dist-packages (from requests->torch-geometric) (2.0.7)\n",
            "Requirement already satisfied: certifi>=2017.4.17 in /usr/local/lib/python3.10/dist-packages (from requests->torch-geometric) (2023.7.22)\n",
            "Requirement already satisfied: joblib>=1.1.1 in /usr/local/lib/python3.10/dist-packages (from scikit-learn->torch-geometric) (1.3.2)\n",
            "Requirement already satisfied: threadpoolctl>=2.0.0 in /usr/local/lib/python3.10/dist-packages (from scikit-learn->torch-geometric) (3.2.0)\n",
            "Installing collected packages: torch-geometric\n",
            "Successfully installed torch-geometric-2.4.0\n",
            "Collecting rdflib\n",
            "  Downloading rdflib-7.0.0-py3-none-any.whl (531 kB)\n",
            "\u001b[2K     \u001b[90m━━━━━━━━━━━━━━━━━━━━━━━━━━━━━━━━━━━━━━━━\u001b[0m \u001b[32m531.9/531.9 kB\u001b[0m \u001b[31m7.5 MB/s\u001b[0m eta \u001b[36m0:00:00\u001b[0m\n",
            "\u001b[?25hCollecting isodate<0.7.0,>=0.6.0 (from rdflib)\n",
            "  Downloading isodate-0.6.1-py2.py3-none-any.whl (41 kB)\n",
            "\u001b[2K     \u001b[90m━━━━━━━━━━━━━━━━━━━━━━━━━━━━━━━━━━━━━━━━\u001b[0m \u001b[32m41.7/41.7 kB\u001b[0m \u001b[31m5.6 MB/s\u001b[0m eta \u001b[36m0:00:00\u001b[0m\n",
            "\u001b[?25hRequirement already satisfied: pyparsing<4,>=2.1.0 in /usr/local/lib/python3.10/dist-packages (from rdflib) (3.1.1)\n",
            "Requirement already satisfied: six in /usr/local/lib/python3.10/dist-packages (from isodate<0.7.0,>=0.6.0->rdflib) (1.16.0)\n",
            "Installing collected packages: isodate, rdflib\n",
            "Successfully installed isodate-0.6.1 rdflib-7.0.0\n"
          ]
        }
      ],
      "source": [
        "!pip install torch-geometric -f https://pytorch-geometric.com/whl/torch-1.13.1+cu116.html\n",
        "!pip install rdflib"
      ]
    },
    {
      "cell_type": "code",
      "execution_count": null,
      "metadata": {
        "id": "oDpTud4pKLGW"
      },
      "outputs": [],
      "source": [
        "import networkx as nx\n",
        "import numpy as np\n",
        "import torch\n",
        "import torch.nn as nn\n",
        "import torch.nn.functional as F\n",
        "import torch_geometric\n",
        "import torch_geometric.nn as pyg_nn\n",
        "import matplotlib.pyplot as plt"
      ]
    },
    {
      "cell_type": "markdown",
      "metadata": {
        "id": "_uKPpvbjCmxH"
      },
      "source": [
        "#### 1.1.1 Data exploration"
      ]
    },
    {
      "cell_type": "markdown",
      "source": [
        "Explore the data. We found that node features for AFIB is missing"
      ],
      "metadata": {
        "id": "iaKfvtbY8RZY"
      }
    },
    {
      "cell_type": "code",
      "execution_count": null,
      "metadata": {
        "colab": {
          "base_uri": "https://localhost:8080/"
        },
        "id": "AhMMClP6IqMB",
        "outputId": "0167b215-d828-4ca1-efc5-59efb7cbe0aa"
      },
      "outputs": [
        {
          "output_type": "stream",
          "name": "stderr",
          "text": [
            "Downloading https://data.dgl.ai/dataset/aifb.tgz\n",
            "Extracting data/Entities/aifb.tgz\n",
            "Processing...\n",
            "Done!\n"
          ]
        },
        {
          "output_type": "stream",
          "name": "stdout",
          "text": [
            "Dataset: AIFBEntities()\n",
            "Data: Data(edge_index=[2, 58086], edge_type=[58086], train_idx=[140], train_y=[140], test_idx=[36], test_y=[36], num_nodes=8285)\n",
            "\n",
            "Number of nodes: 8285\n",
            "Number of edges: 58086\n",
            "Number of features: 0\n",
            "Number of classes: 4\n",
            "Number of relations: 90\n",
            "Average node degree: 7.01\n",
            "Contains isolated nodes: False\n",
            "Contains self-loops: False\n",
            "Is undirected: True\n",
            "Diameter: 8 \n",
            "\n",
            "Node features: None\n"
          ]
        }
      ],
      "source": [
        "from torch_geometric.datasets import Entities\n",
        "from torch_geometric.utils import to_networkx\n",
        "\n",
        "dataset = Entities('data/Entities', 'AIFB')\n",
        "data = dataset[0]\n",
        "print(f'Dataset: {dataset}')\n",
        "print(f'Data: {data}\\n')\n",
        "\n",
        "print(f'Number of nodes: {data.num_nodes}')\n",
        "print(f'Number of edges: {data.num_edges}')\n",
        "print(f'Number of features: {dataset.num_features}')\n",
        "print(f'Number of classes: {dataset.num_classes}')\n",
        "print(f'Number of relations: {dataset.num_relations}')\n",
        "print(f'Average node degree: {(data.num_edges) / data.num_nodes:.2f}')\n",
        "print(f'Contains isolated nodes: {data.has_isolated_nodes()}')\n",
        "print(f'Contains self-loops: {data.has_self_loops()}')\n",
        "print(f'Is undirected: {data.is_undirected()}')\n",
        "\n",
        "# Calculating diameters is very time-consuming......\n",
        "G = to_networkx(data, to_undirected=True)\n",
        "connected_components = list(nx.connected_components(G))\n",
        "diameters = []\n",
        "for i, component in enumerate(connected_components):\n",
        "    subgraph = G.subgraph(component)\n",
        "    diameters.append(nx.diameter(subgraph))\n",
        "print(f\"Diameter: {max(diameters)} \\n\")\n",
        "\n",
        "print(f'Node features: {data.x}')"
      ]
    },
    {
      "cell_type": "markdown",
      "source": [
        "Visualize the data:"
      ],
      "metadata": {
        "id": "UTJrz8leBmGE"
      }
    },
    {
      "cell_type": "code",
      "source": [
        "# Choose nodes for visualization\n",
        "nodes = data.test_idx.numpy()[:10]\n",
        "edgelist = []\n",
        "typelist = []\n",
        "\n",
        "# Ues NetworkX\n",
        "G = nx.Graph()\n",
        "for node in nodes:\n",
        "    neighbors = data.edge_index[0, (data.edge_index[1] == node)].numpy()\n",
        "    G.add_node(node)\n",
        "    for neighbor in neighbors:\n",
        "        G.add_node(neighbor)\n",
        "        G.add_edge(neighbor, node)\n",
        "        edgelist.append((neighbor, node))\n",
        "        type = data.edge_type[torch.logical_and(data.edge_index[0] == neighbor, data.edge_index[1] == node)].numpy()\n",
        "        typelist.append(type[0])\n",
        "\n",
        "# Scale edge type values\n",
        "scale_min, scale_max = 0.2, 1.0\n",
        "colorlist = (scale_max - scale_min) / (np.max(typelist) - np.min(typelist)) * (typelist - np.min(typelist)) + scale_min\n",
        "\n",
        "# Plot\n",
        "fig, ax = plt.subplots(figsize=(4,4))\n",
        "pos = nx.spring_layout(G)\n",
        "nx.draw_networkx_nodes(G, pos, ax=ax, nodelist=list(G), node_size=10)\n",
        "nx.draw_networkx_edges(G, pos, edgelist=edgelist, edge_color=colorlist, edge_cmap=plt.cm.YlOrRd,\n",
        "                        width=1.5, ax=ax, edge_vmin=0, edge_vmax=1)\n",
        "plt.savefig('10-node-subgraph-1.1.png', dpi=300, bbox_inches='tight')\n"
      ],
      "metadata": {
        "id": "tGqyEcI0eEdo",
        "colab": {
          "base_uri": "https://localhost:8080/",
          "height": 345
        },
        "outputId": "37c646f9-4b9e-49bf-fa3c-f35df7bc12da"
      },
      "execution_count": null,
      "outputs": [
        {
          "output_type": "display_data",
          "data": {
            "text/plain": [
              "<Figure size 400x400 with 1 Axes>"
            ],
            "image/png": "[encoded data removed]"
          },
          "metadata": {}
        }
      ]
    },
    {
      "cell_type": "markdown",
      "source": [
        "Augment features:"
      ],
      "metadata": {
        "id": "jKXyc5It8Gpq"
      }
    },
    {
      "cell_type": "code",
      "execution_count": null,
      "metadata": {
        "id": "2AtfftYjJpyo"
      },
      "outputs": [],
      "source": [
        "augment = \"arange\" # \"arange\" or \"one-hot\"\n",
        "if augment == \"arange\":\n",
        "    data.x = torch.arange(data.num_nodes, dtype=torch.float32)[:, None]\n",
        "elif augment == \"one-hot\":\n",
        "    data.x = torch.eye(data.num_nodes, dtype=torch.float32)\n",
        "dataset.num_augmented_features = data.x.shape[1]"
      ]
    },
    {
      "cell_type": "markdown",
      "metadata": {
        "id": "AIBtTme1DUYp"
      },
      "source": [
        "#### 1.1.2 Random baseline"
      ]
    },
    {
      "cell_type": "code",
      "execution_count": null,
      "metadata": {
        "id": "tpZHgItsDXSH",
        "colab": {
          "base_uri": "https://localhost:8080/"
        },
        "outputId": "5fc2a849-7610-4ffa-da92-72b0d7825e6d"
      },
      "outputs": [
        {
          "output_type": "stream",
          "name": "stdout",
          "text": [
            "Model: Random\n",
            "Accuracies: [0.25, 0.3611111111111111, 0.19444444444444445, 0.3611111111111111, 0.3055555555555556, 0.19444444444444445, 0.3611111111111111, 0.2777777777777778, 0.19444444444444445, 0.2777777777777778, 0.1111111111111111, 0.2222222222222222, 0.2777777777777778, 0.2222222222222222, 0.2777777777777778, 0.1388888888888889, 0.25, 0.25, 0.19444444444444445, 0.3333333333333333, 0.3055555555555556, 0.25, 0.2777777777777778, 0.2777777777777778, 0.3888888888888889, 0.3888888888888889, 0.19444444444444445, 0.2222222222222222, 0.25, 0.3888888888888889, 0.3611111111111111, 0.19444444444444445, 0.1388888888888889, 0.25, 0.2777777777777778, 0.3333333333333333, 0.25, 0.2222222222222222, 0.1111111111111111, 0.19444444444444445, 0.4166666666666667, 0.1388888888888889, 0.19444444444444445, 0.3055555555555556, 0.3055555555555556, 0.16666666666666666, 0.25, 0.25, 0.3611111111111111, 0.25, 0.2777777777777778, 0.3055555555555556, 0.3055555555555556, 0.16666666666666666, 0.3055555555555556, 0.2777777777777778, 0.3055555555555556, 0.2777777777777778, 0.2222222222222222, 0.3055555555555556, 0.1388888888888889, 0.1111111111111111, 0.2222222222222222, 0.2777777777777778, 0.2777777777777778, 0.19444444444444445, 0.25, 0.2777777777777778, 0.3055555555555556, 0.4166666666666667, 0.19444444444444445, 0.3055555555555556, 0.2777777777777778, 0.2222222222222222, 0.2222222222222222, 0.2222222222222222, 0.2777777777777778, 0.19444444444444445, 0.19444444444444445, 0.2222222222222222, 0.2777777777777778, 0.3055555555555556, 0.3333333333333333, 0.3333333333333333, 0.19444444444444445, 0.2777777777777778, 0.25, 0.4444444444444444, 0.3055555555555556, 0.19444444444444445, 0.16666666666666666, 0.3055555555555556, 0.3055555555555556, 0.25, 0.2777777777777778, 0.3611111111111111, 0.19444444444444445, 0.2777777777777778, 0.2777777777777778, 0.3055555555555556]\n",
            "Mean: 0.26166666666666666\n",
            "Standard deviation: 0.06974158650969227\n"
          ]
        }
      ],
      "source": [
        "def RandomClassifier(pred_len):\n",
        "    return torch.randint(0, dataset.num_classes, size=(pred_len,))\n",
        "\n",
        "def eval_random_accuracy(model, eval_y):\n",
        "    pred = model(eval_y.shape[0])\n",
        "    correct = pred.eq(eval_y).sum().item()\n",
        "    total = eval_y.shape[0]\n",
        "    return correct / total\n",
        "\n",
        "def use_random():\n",
        "    # model\n",
        "    random_model = RandomClassifier\n",
        "\n",
        "    # test\n",
        "    accuracy = eval_random_accuracy(random_model, data.test_y)\n",
        "    return accuracy\n",
        "\n",
        "num_runs = 100\n",
        "accuracies = []\n",
        "for run in range(num_runs):\n",
        "    # print(\"### Run: {}\".format(run + 1))\n",
        "    accuracy = use_random()\n",
        "    accuracies.append(accuracy)\n",
        "print(\"Model: Random\")\n",
        "print(\"Accuracies: {}\".format(accuracies))\n",
        "print(\"Mean: {}\".format(np.mean(accuracies)))\n",
        "print(\"Standard deviation: {}\".format(np.std(accuracies)))"
      ]
    },
    {
      "cell_type": "markdown",
      "metadata": {
        "id": "J6XLl76nDfw7"
      },
      "source": [
        "#### 1.1.3 Feature baseline"
      ]
    },
    {
      "cell_type": "code",
      "execution_count": null,
      "metadata": {
        "id": "0IJTvGS8Dhfr",
        "colab": {
          "base_uri": "https://localhost:8080/"
        },
        "outputId": "1224d87d-85b4-43f8-b8cd-a0359eb9edb3"
      },
      "outputs": [
        {
          "output_type": "stream",
          "name": "stdout",
          "text": [
            "### Run: 1\n",
            "Epoch: 20\tValidation accuracy: 0.16666666666666666\n",
            "Epoch: 40\tValidation accuracy: 0.16666666666666666\n",
            "Epoch: 60\tValidation accuracy: 0.16666666666666666\n",
            "Epoch: 80\tValidation accuracy: 0.3333333333333333\n",
            "Epoch: 100\tValidation accuracy: 0.4166666666666667\n",
            "### Run: 2\n",
            "Epoch: 20\tValidation accuracy: 0.08333333333333333\n",
            "Epoch: 40\tValidation accuracy: 0.4166666666666667\n",
            "Epoch: 60\tValidation accuracy: 0.4166666666666667\n",
            "Epoch: 80\tValidation accuracy: 0.3333333333333333\n",
            "Epoch: 100\tValidation accuracy: 0.4166666666666667\n",
            "### Run: 3\n",
            "Epoch: 20\tValidation accuracy: 0.08333333333333333\n",
            "Epoch: 40\tValidation accuracy: 0.16666666666666666\n",
            "Epoch: 60\tValidation accuracy: 0.3333333333333333\n",
            "Epoch: 80\tValidation accuracy: 0.3333333333333333\n",
            "Epoch: 100\tValidation accuracy: 0.16666666666666666\n",
            "Model: MLP\n",
            "Accuracies: [0.4166666666666667, 0.4166666666666667, 0.16666666666666666]\n",
            "Mean: 0.3333333333333333\n",
            "Standard deviation: 0.11785113019775793\n"
          ]
        }
      ],
      "source": [
        "class MLPClassifier(nn.Module):\n",
        "    def __init__(self, node_dim, num_classes):\n",
        "        super(MLPClassifier, self).__init__()\n",
        "        self.logits = nn.Linear(node_dim, num_classes)\n",
        "\n",
        "    def forward(self, x):\n",
        "        return self.logits(x)\n",
        "\n",
        "    @torch.no_grad()\n",
        "    def eval_accuracy(self, eval_x, eval_y):\n",
        "        pred = self(eval_x).max(dim=1)[1]\n",
        "        correct = pred.eq(eval_y).sum().item()\n",
        "        total = eval_x.shape[0]\n",
        "        return correct / total\n",
        "\n",
        "def use_mlp(seed):\n",
        "    # seed\n",
        "    torch.manual_seed(seed)\n",
        "\n",
        "    # model and optimizer\n",
        "    mlp_model = MLPClassifier(dataset.num_augmented_features, dataset.num_classes)\n",
        "    optimizer = torch.optim.Adam(mlp_model.parameters(), lr=0.01, weight_decay=5e-4)\n",
        "\n",
        "    # train\n",
        "    for epoch in range(100):\n",
        "        mlp_model.train()\n",
        "        feature, label = data.x[data.train_idx], data.train_y\n",
        "        pred = mlp_model(feature)\n",
        "        loss = F.cross_entropy(pred, label)\n",
        "        optimizer.zero_grad()\n",
        "        loss.backward()\n",
        "        optimizer.step()\n",
        "\n",
        "        # valid\n",
        "        if (epoch + 1) % 20 == 0:\n",
        "            accuracy = mlp_model.eval_accuracy(data.x[data.test_idx], data.test_y)\n",
        "            print(\"Epoch: {}\\tValidation accuracy: {}\".format(epoch + 1, accuracy))\n",
        "\n",
        "    # test\n",
        "    accuracy = mlp_model.eval_accuracy(data.x[data.test_idx], data.test_y)\n",
        "    return accuracy\n",
        "\n",
        "seed_list = [0, 10388, 170001]\n",
        "num_runs = len(seed_list)\n",
        "accuracies = []\n",
        "for run in range(num_runs):\n",
        "    print(\"### Run: {}\".format(run + 1))\n",
        "    accuracy = use_mlp(seed=seed_list[run])\n",
        "    accuracies.append(accuracy)\n",
        "print(\"Model: MLP\")\n",
        "print(\"Accuracies: {}\".format(accuracies))\n",
        "print(\"Mean: {}\".format(np.mean(accuracies)))\n",
        "print(\"Standard deviation: {}\".format(np.std(accuracies)))"
      ]
    },
    {
      "cell_type": "markdown",
      "metadata": {
        "id": "L0kupK_xDiAj"
      },
      "source": [
        "#### 1.1.4 GNN"
      ]
    },
    {
      "cell_type": "code",
      "execution_count": null,
      "metadata": {
        "id": "PQRKDriuDjPh"
      },
      "outputs": [],
      "source": [
        "class GNNClassifier(nn.Module):\n",
        "    def __init__(self, input_dim, hidden_dim, num_classes, num_gnn_layers, rgcn=pyg_nn.RGCNConv):\n",
        "        super(GNNClassifier, self).__init__()\n",
        "        self.gnn_layers = nn.ModuleList()\n",
        "        self.gnn_layers.append(rgcn(input_dim, hidden_dim, dataset.num_relations))\n",
        "        for _ in range(num_gnn_layers - 1):\n",
        "            self.gnn_layers.append(rgcn(hidden_dim, hidden_dim, dataset.num_relations))\n",
        "        self.logits = nn.Linear(hidden_dim, num_classes)\n",
        "\n",
        "    def forward(self, edge_index, edge_type):\n",
        "        for i, layer in enumerate(self.gnn_layers):\n",
        "            if i == 0:\n",
        "                x = layer(None, edge_index, edge_type)\n",
        "            else:\n",
        "                x = layer(x, edge_index, edge_type)\n",
        "            if i < len(self.gnn_layers) - 1:\n",
        "                x = F.relu(x)\n",
        "        logits = F.log_softmax(self.logits(x), dim=1)\n",
        "        return logits\n",
        "\n",
        "    @torch.no_grad()\n",
        "    def eval_accuracy(self, edge_index, edge_type, eval_idx, eval_label):\n",
        "        pred = self(edge_index, edge_type).max(dim=1)[1]\n",
        "        correct = pred[eval_idx].eq(eval_label).sum().item()\n",
        "        total = eval_idx.shape[0]\n",
        "        return correct / total\n",
        "\n",
        "def use_gnn(seed, hidden_dim, num_gnn_layers):\n",
        "    # seed\n",
        "    torch.manual_seed(seed)\n",
        "\n",
        "    # model and optimizer\n",
        "    gnn_model = GNNClassifier(input_dim=data.num_nodes,\n",
        "                              hidden_dim=hidden_dim,\n",
        "                              num_classes=dataset.num_classes,\n",
        "                              num_gnn_layers=num_gnn_layers).to(\"cuda\")\n",
        "    optimizer = torch.optim.Adam(gnn_model.parameters(), lr=0.01, weight_decay=0)\n",
        "\n",
        "    # data\n",
        "    x, edge_index, edge_type = data.x.to(\"cuda\"), data.edge_index.to(\"cuda\"), data.edge_type.to(\"cuda\")\n",
        "    train_y, train_idx, test_y, test_idx = data.train_y.to(\"cuda\"), data.train_idx, data.test_y.to(\"cuda\"), data.test_idx\n",
        "\n",
        "    # train\n",
        "    for epoch in range(50):\n",
        "        gnn_model.train()\n",
        "        pred = gnn_model(edge_index, edge_type)\n",
        "        loss = F.nll_loss(pred[train_idx], train_y)\n",
        "        optimizer.zero_grad()\n",
        "        loss.backward()\n",
        "        optimizer.step()\n",
        "\n",
        "        # valid\n",
        "        if (epoch + 1) % 10 == 0:\n",
        "            accuracy = gnn_model.eval_accuracy(edge_index, edge_type, test_idx, test_y)\n",
        "            print(\"Epoch: {}\\tValidation accuracy: {}\".format(epoch + 1, accuracy))\n",
        "\n",
        "    # test\n",
        "    accuracy = gnn_model.eval_accuracy(edge_index, edge_type, test_idx, test_y)\n",
        "    return accuracy"
      ]
    },
    {
      "cell_type": "code",
      "source": [
        "seed_list = [42, 10492, 114514]\n",
        "num_runs = len(seed_list)\n",
        "accuracies = []\n",
        "for run in range(num_runs):\n",
        "    print(\"### Run: {}\".format(run + 1))\n",
        "    accuracy = use_gnn(seed=seed_list[run], hidden_dim=8, num_gnn_layers=2)\n",
        "    accuracies.append(accuracy)\n",
        "print(\"Model: GNN\")\n",
        "print(\"Accuracies: {}\".format(accuracies))\n",
        "print(\"Mean: {}\".format(np.mean(accuracies)))\n",
        "print(\"Standard deviation: {}\".format(np.std(accuracies)))"
      ],
      "metadata": {
        "id": "-l0EihljXncp",
        "colab": {
          "base_uri": "https://localhost:8080/"
        },
        "outputId": "8ebf008d-709b-41d3-8e21-3a9885faa3de"
      },
      "execution_count": null,
      "outputs": [
        {
          "output_type": "stream",
          "name": "stdout",
          "text": [
            "### Run: 1\n",
            "Epoch: 10\tValidation accuracy: 0.9444444444444444\n",
            "Epoch: 20\tValidation accuracy: 0.9722222222222222\n",
            "Epoch: 30\tValidation accuracy: 0.9722222222222222\n",
            "Epoch: 40\tValidation accuracy: 0.9722222222222222\n",
            "Epoch: 50\tValidation accuracy: 0.9722222222222222\n",
            "### Run: 2\n",
            "Epoch: 10\tValidation accuracy: 0.9722222222222222\n",
            "Epoch: 20\tValidation accuracy: 0.9722222222222222\n",
            "Epoch: 30\tValidation accuracy: 0.9722222222222222\n",
            "Epoch: 40\tValidation accuracy: 0.9722222222222222\n",
            "Epoch: 50\tValidation accuracy: 0.9722222222222222\n",
            "### Run: 3\n",
            "Epoch: 10\tValidation accuracy: 0.9166666666666666\n",
            "Epoch: 20\tValidation accuracy: 0.9166666666666666\n",
            "Epoch: 30\tValidation accuracy: 0.9166666666666666\n",
            "Epoch: 40\tValidation accuracy: 0.9166666666666666\n",
            "Epoch: 50\tValidation accuracy: 0.9166666666666666\n",
            "Model: GNN\n",
            "Accuracies: [0.9722222222222222, 0.9722222222222222, 0.9166666666666666]\n",
            "Mean: 0.9537037037037037\n",
            "Standard deviation: 0.026189140043946214\n"
          ]
        }
      ]
    },
    {
      "cell_type": "markdown",
      "metadata": {
        "id": "gcVyLnLvHDD-"
      },
      "source": [
        "#### 1.1.5 Oversmoothing"
      ]
    },
    {
      "cell_type": "markdown",
      "source": [
        "Model depth exploration"
      ],
      "metadata": {
        "id": "XcYxZhH0tLOO"
      }
    },
    {
      "cell_type": "code",
      "execution_count": null,
      "metadata": {
        "id": "Uul-sSbLHF5q",
        "colab": {
          "base_uri": "https://localhost:8080/"
        },
        "outputId": "3db74c10-5c21-440d-bdf9-39341e969164"
      },
      "outputs": [
        {
          "output_type": "stream",
          "name": "stdout",
          "text": [
            "### Depth: 2\n",
            "Epoch: 10\tValidation accuracy: 0.9444444444444444\n",
            "Epoch: 20\tValidation accuracy: 0.9722222222222222\n",
            "Epoch: 30\tValidation accuracy: 0.9722222222222222\n",
            "Epoch: 40\tValidation accuracy: 0.9722222222222222\n",
            "Epoch: 50\tValidation accuracy: 0.9722222222222222\n",
            "### Depth: 5\n",
            "Epoch: 10\tValidation accuracy: 0.9444444444444444\n",
            "Epoch: 20\tValidation accuracy: 0.9166666666666666\n",
            "Epoch: 30\tValidation accuracy: 0.8888888888888888\n",
            "Epoch: 40\tValidation accuracy: 0.8888888888888888\n",
            "Epoch: 50\tValidation accuracy: 0.8888888888888888\n",
            "### Depth: 10\n",
            "Epoch: 10\tValidation accuracy: 0.8333333333333334\n",
            "Epoch: 20\tValidation accuracy: 0.8888888888888888\n",
            "Epoch: 30\tValidation accuracy: 0.9166666666666666\n",
            "Epoch: 40\tValidation accuracy: 0.9166666666666666\n",
            "Epoch: 50\tValidation accuracy: 0.8888888888888888\n",
            "### Depth: 20\n",
            "Epoch: 10\tValidation accuracy: 0.6388888888888888\n",
            "Epoch: 20\tValidation accuracy: 0.7777777777777778\n",
            "Epoch: 30\tValidation accuracy: 0.8055555555555556\n",
            "Epoch: 40\tValidation accuracy: 0.8333333333333334\n",
            "Epoch: 50\tValidation accuracy: 0.8333333333333334\n",
            "### Depth: 40\n",
            "Epoch: 10\tValidation accuracy: 0.5\n",
            "Epoch: 20\tValidation accuracy: 0.6111111111111112\n",
            "Epoch: 30\tValidation accuracy: 0.75\n",
            "Epoch: 40\tValidation accuracy: 0.6944444444444444\n",
            "Epoch: 50\tValidation accuracy: 0.75\n",
            "### Depth: 80\n",
            "Epoch: 10\tValidation accuracy: 0.19444444444444445\n",
            "Epoch: 20\tValidation accuracy: 0.16666666666666666\n",
            "Epoch: 30\tValidation accuracy: 0.1388888888888889\n",
            "Epoch: 40\tValidation accuracy: 0.2222222222222222\n",
            "Epoch: 50\tValidation accuracy: 0.3611111111111111\n",
            "Model depth exploration: \n",
            "Accuracies: [0.9722222222222222, 0.8888888888888888, 0.8888888888888888, 0.8333333333333334, 0.75, 0.3611111111111111]\n"
          ]
        }
      ],
      "source": [
        "num_gnn_layers_list = [2, 5, 10, 20, 40, 80]\n",
        "num_runs = len(num_gnn_layers_list)\n",
        "depth_accuracies = []\n",
        "for run in range(num_runs):\n",
        "    print(\"### Depth: {}\".format(num_gnn_layers_list[run]))\n",
        "    accuracy = use_gnn(seed=42, hidden_dim=8, num_gnn_layers=num_gnn_layers_list[run])\n",
        "    depth_accuracies.append(accuracy)\n",
        "print(\"Model depth exploration: \")\n",
        "print(\"Accuracies: {}\".format(depth_accuracies))"
      ]
    },
    {
      "cell_type": "markdown",
      "source": [
        "Model width exploration"
      ],
      "metadata": {
        "id": "o0tZk_wntOMg"
      }
    },
    {
      "cell_type": "code",
      "source": [
        "hidden_dim_list = [4, 8, 16, 32, 64, 128]\n",
        "num_runs = len(hidden_dim_list)\n",
        "width_accuracies = []\n",
        "for run in range(num_runs):\n",
        "    print(\"### Width: {}\".format(hidden_dim_list[run]))\n",
        "    accuracy = use_gnn(seed=42, hidden_dim=hidden_dim_list[run], num_gnn_layers=2)\n",
        "    width_accuracies.append(accuracy)\n",
        "print(\"Model width exploration: \")\n",
        "print(\"Accuracies: {}\".format(width_accuracies))"
      ],
      "metadata": {
        "id": "Z9EOQ6-5tSly",
        "colab": {
          "base_uri": "https://localhost:8080/"
        },
        "outputId": "6b46d6b4-93ec-488f-df5f-a6dfca35fc9b"
      },
      "execution_count": null,
      "outputs": [
        {
          "output_type": "stream",
          "name": "stdout",
          "text": [
            "### Width: 4\n",
            "Epoch: 10\tValidation accuracy: 0.8611111111111112\n",
            "Epoch: 20\tValidation accuracy: 0.9722222222222222\n",
            "Epoch: 30\tValidation accuracy: 0.9722222222222222\n",
            "Epoch: 40\tValidation accuracy: 0.9722222222222222\n",
            "Epoch: 50\tValidation accuracy: 0.9444444444444444\n",
            "### Width: 8\n",
            "Epoch: 10\tValidation accuracy: 0.9444444444444444\n",
            "Epoch: 20\tValidation accuracy: 0.9722222222222222\n",
            "Epoch: 30\tValidation accuracy: 0.9722222222222222\n",
            "Epoch: 40\tValidation accuracy: 0.9722222222222222\n",
            "Epoch: 50\tValidation accuracy: 0.9722222222222222\n",
            "### Width: 16\n",
            "Epoch: 10\tValidation accuracy: 0.9444444444444444\n",
            "Epoch: 20\tValidation accuracy: 0.9722222222222222\n",
            "Epoch: 30\tValidation accuracy: 0.9722222222222222\n",
            "Epoch: 40\tValidation accuracy: 0.9722222222222222\n",
            "Epoch: 50\tValidation accuracy: 0.9722222222222222\n",
            "### Width: 32\n",
            "Epoch: 10\tValidation accuracy: 0.9722222222222222\n",
            "Epoch: 20\tValidation accuracy: 0.8888888888888888\n",
            "Epoch: 30\tValidation accuracy: 0.8888888888888888\n",
            "Epoch: 40\tValidation accuracy: 0.8888888888888888\n",
            "Epoch: 50\tValidation accuracy: 0.8888888888888888\n",
            "### Width: 64\n",
            "Epoch: 10\tValidation accuracy: 0.9166666666666666\n",
            "Epoch: 20\tValidation accuracy: 0.8888888888888888\n",
            "Epoch: 30\tValidation accuracy: 0.8888888888888888\n",
            "Epoch: 40\tValidation accuracy: 0.8888888888888888\n",
            "Epoch: 50\tValidation accuracy: 0.8888888888888888\n",
            "### Width: 128\n",
            "Epoch: 10\tValidation accuracy: 0.8888888888888888\n",
            "Epoch: 20\tValidation accuracy: 0.8888888888888888\n",
            "Epoch: 30\tValidation accuracy: 0.8888888888888888\n",
            "Epoch: 40\tValidation accuracy: 0.8888888888888888\n",
            "Epoch: 50\tValidation accuracy: 0.8888888888888888\n",
            "Model width exploration: \n",
            "Accuracies: [0.9444444444444444, 0.9722222222222222, 0.9722222222222222, 0.8888888888888888, 0.8888888888888888, 0.8888888888888888]\n"
          ]
        }
      ]
    },
    {
      "cell_type": "markdown",
      "source": [
        "1. Plot of accuracies vs. model depth\n",
        "2. Plot of accuracies vs. model width\n"
      ],
      "metadata": {
        "id": "N07iTYsTazJM"
      }
    },
    {
      "cell_type": "code",
      "source": [
        "plt.figure(figsize=(10,6))\n",
        "plt.plot(num_gnn_layers_list, depth_accuracies, label=\"Depth\")\n",
        "plt.plot(hidden_dim_list, width_accuracies, label=\"Width\")\n",
        "plt.xlabel(\"Depth or Width\", size=15)\n",
        "plt.ylabel(\"Accuracy\", size=15)\n",
        "plt.savefig('depth or width-acc.eps', dpi=300, bbox_inches='tight')\n",
        "plt.xticks(fontsize=10)\n",
        "plt.yticks(fontsize=10)\n",
        "plt.legend()\n",
        "plt.savefig('width-acc.eps', dpi=300, bbox_inches='tight')"
      ],
      "metadata": {
        "id": "iDfesGvja0kP",
        "colab": {
          "base_uri": "https://localhost:8080/",
          "height": 569
        },
        "outputId": "b3527c64-bac0-4a9e-97f6-ef86dd73d515"
      },
      "execution_count": null,
      "outputs": [
        {
          "output_type": "stream",
          "name": "stderr",
          "text": [
            "WARNING:matplotlib.backends.backend_ps:The PostScript backend does not support transparency; partially transparent artists will be rendered opaque.\n"
          ]
        },
        {
          "output_type": "display_data",
          "data": {
            "text/plain": [
              "<Figure size 1000x600 with 1 Axes>"
            ],
            "image/png": "[encoded data removed]"
          },
          "metadata": {}
        }
      ]
    },
    {
      "cell_type": "markdown",
      "source": [
        "Compute oversmoothing metrics.\n",
        "There are several ways that we could explore to overcome over-smoothing:\n",
        "1. Normalizing and Regularization: (PairNorm-GCN), L2-Regularizer (GCN-L2Reg)\n",
        "2. Residual Connections (Residual-GCN)\n"
      ],
      "metadata": {
        "id": "C450LcHCteH3"
      }
    },
    {
      "cell_type": "code",
      "source": [
        "class OversmoothGNN(nn.Module):\n",
        "    def __init__(self, input_dim, hidden_dim, num_classes, num_gnn_layers, rgcn=pyg_nn.RGCNConv, pn=pyg_nn.PairNorm,\n",
        "                 use_pair_norm=False, use_residual=False):\n",
        "        super(OversmoothGNN, self).__init__()\n",
        "        self.gnn_layers = nn.ModuleList()\n",
        "        self.gnn_layers.append(rgcn(input_dim, hidden_dim, dataset.num_relations, num_bases=10, bias=False))\n",
        "        self.norms = nn.ModuleList()\n",
        "        self.norms.append(pn())\n",
        "        for _ in range(num_gnn_layers - 1):\n",
        "            self.gnn_layers.append(rgcn(hidden_dim, hidden_dim, dataset.num_relations, num_bases=10, bias=False))\n",
        "            self.norms.append(pn())\n",
        "        self.logits = nn.Linear(hidden_dim, num_classes)\n",
        "        self.use_pair_norm = use_pair_norm\n",
        "        self.use_residual = use_residual\n",
        "\n",
        "    def forward(self, edge_index, edge_type):\n",
        "        x_latents = []\n",
        "        for i, layer in enumerate(self.gnn_layers):\n",
        "            # Pass RGCN layer\n",
        "            if i == 0:\n",
        "                x_layer = layer(None, edge_index, edge_type)\n",
        "            else:\n",
        "                x_layer = layer(x, edge_index, edge_type)\n",
        "\n",
        "            # Store features for evaluating oversmoothing\n",
        "            x_latents.append(x_layer.detach())\n",
        "\n",
        "            # Use PairNorm\n",
        "            if self.use_pair_norm:\n",
        "                x_layer = self.norms[i](x_layer)\n",
        "\n",
        "            # Pass activation layer\n",
        "            if i < len(self.gnn_layers) - 1:\n",
        "                x_layer = F.relu(x_layer)\n",
        "\n",
        "            # Use residual connection\n",
        "            if self.use_residual:\n",
        "                if i == 0:\n",
        "                    x = x_layer\n",
        "                else:\n",
        "                    x = x + x_layer\n",
        "            else:\n",
        "                x = x_layer\n",
        "\n",
        "        logits = F.log_softmax(self.logits(x), dim=1)\n",
        "        return (logits, x_latents)\n",
        "\n",
        "    @torch.no_grad()\n",
        "    def eval_accuracy(self, edge_index, edge_type, eval_idx, eval_label):\n",
        "        pred, _ = self(edge_index, edge_type)\n",
        "        pred = pred.max(dim=1)[1]\n",
        "        correct = pred[eval_idx].eq(eval_label).sum().item()\n",
        "        total = eval_idx.shape[0]\n",
        "        return correct / total\n",
        "\n",
        "    @torch.no_grad()\n",
        "    def dirichlet_energy(self, x, edge_index):\n",
        "        A = torch_geometric.utils.to_dense_adj(edge_index)\n",
        "        D = torch.diag(torch.sum(A, axis=1))\n",
        "        L = D - A\n",
        "        d_e = torch.matmul(torch.matmul(x.T, L), x).squeeze(0)\n",
        "        energy = torch.trace(d_e)\n",
        "        return energy\n",
        "\n",
        "    @torch.no_grad()\n",
        "    def eval_oversmoothing(self, edge_index, edge_type):\n",
        "        _, x_latents = self(edge_index, edge_type)\n",
        "        d_energies = np.array([self.dirichlet_energy(x, edge_index).cpu() for x in x_latents], np.float64)\n",
        "        d_energies_log = np.log10(d_energies)\n",
        "        return d_energies_log\n",
        "\n",
        "def use_gnn(seed, hidden_dim, num_gnn_layers, use_pair_norm=False, use_reg=False, use_residual=False):\n",
        "    # seed\n",
        "    torch.manual_seed(seed)\n",
        "\n",
        "    # model and optimizer\n",
        "    gnn_model = OversmoothGNN(input_dim=data.num_nodes,\n",
        "                              hidden_dim=hidden_dim,\n",
        "                              num_classes=dataset.num_classes,\n",
        "                              num_gnn_layers=num_gnn_layers,\n",
        "                              use_pair_norm=use_pair_norm,\n",
        "                              use_residual=use_residual).to(\"cuda\")\n",
        "    if use_reg:\n",
        "        optimizer = torch.optim.Adam(gnn_model.parameters(), lr=0.01, weight_decay=5e-4)\n",
        "    else:\n",
        "        optimizer = torch.optim.Adam(gnn_model.parameters(), lr=0.01, weight_decay=0)\n",
        "\n",
        "    # data\n",
        "    x, edge_index, edge_type = data.x.to(\"cuda\"), data.edge_index.to(\"cuda\"), data.edge_type.to(\"cuda\")\n",
        "    train_y, train_idx, test_y, test_idx = data.train_y.to(\"cuda\"), data.train_idx, data.test_y.to(\"cuda\"), data.test_idx\n",
        "\n",
        "    # train\n",
        "    for epoch in range(50):\n",
        "        gnn_model.train()\n",
        "        pred, _ = gnn_model(edge_index, edge_type)\n",
        "        loss = F.nll_loss(pred[train_idx], train_y)\n",
        "        optimizer.zero_grad()\n",
        "        loss.backward()\n",
        "        optimizer.step()\n",
        "\n",
        "        # valid\n",
        "        if (epoch + 1) % 10 == 0:\n",
        "            accuracy = gnn_model.eval_accuracy(edge_index, edge_type, test_idx, test_y)\n",
        "            print(\"Epoch: {}\\tValidation accuracy: {}\".format(epoch + 1, accuracy))\n",
        "\n",
        "    # test\n",
        "    accuracy = gnn_model.eval_accuracy(edge_index, edge_type, test_idx, test_y)\n",
        "    print(\"Test accuracy: {}\".format(accuracy))\n",
        "\n",
        "    # oversmoothing\n",
        "    log_d_energies = gnn_model.eval_oversmoothing(edge_index, edge_type)\n",
        "    return log_d_energies\n",
        "\n",
        "energy_baseline = use_gnn(seed=42, hidden_dim=16, num_gnn_layers=80)"
      ],
      "metadata": {
        "id": "rx82K0Jitg7b",
        "colab": {
          "base_uri": "https://localhost:8080/"
        },
        "outputId": "f3fc1906-61eb-4fd4-b821-fb29516dedf3"
      },
      "execution_count": null,
      "outputs": [
        {
          "output_type": "stream",
          "name": "stdout",
          "text": [
            "Epoch: 10\tValidation accuracy: 0.3333333333333333\n",
            "Epoch: 20\tValidation accuracy: 0.3333333333333333\n",
            "Epoch: 30\tValidation accuracy: 0.3333333333333333\n",
            "Epoch: 40\tValidation accuracy: 0.4166666666666667\n",
            "Epoch: 50\tValidation accuracy: 0.4166666666666667\n",
            "Test accuracy: 0.4166666666666667\n"
          ]
        }
      ]
    },
    {
      "cell_type": "code",
      "source": [
        "energy_with_pn = use_gnn(seed=42, hidden_dim=16, num_gnn_layers=80, use_pair_norm=True)"
      ],
      "metadata": {
        "id": "VX1oxTBbtYZi",
        "colab": {
          "base_uri": "https://localhost:8080/"
        },
        "outputId": "16e6cad0-84f6-401b-86b2-c9edfbfcc055"
      },
      "execution_count": null,
      "outputs": [
        {
          "output_type": "stream",
          "name": "stdout",
          "text": [
            "Epoch: 10\tValidation accuracy: 0.6666666666666666\n",
            "Epoch: 20\tValidation accuracy: 0.8888888888888888\n",
            "Epoch: 30\tValidation accuracy: 0.9166666666666666\n",
            "Epoch: 40\tValidation accuracy: 0.9166666666666666\n",
            "Epoch: 50\tValidation accuracy: 0.9166666666666666\n",
            "Test accuracy: 0.9166666666666666\n"
          ]
        }
      ]
    },
    {
      "cell_type": "code",
      "source": [
        "energy_with_reg = use_gnn(seed=42, hidden_dim=16, num_gnn_layers=80, use_reg=True)"
      ],
      "metadata": {
        "id": "jeblLeikg1SI",
        "colab": {
          "base_uri": "https://localhost:8080/"
        },
        "outputId": "a1ca3eaa-d8d2-4196-a5e6-8241ecb93cca"
      },
      "execution_count": null,
      "outputs": [
        {
          "output_type": "stream",
          "name": "stdout",
          "text": [
            "Epoch: 10\tValidation accuracy: 0.3333333333333333\n",
            "Epoch: 20\tValidation accuracy: 0.3333333333333333\n",
            "Epoch: 30\tValidation accuracy: 0.3333333333333333\n",
            "Epoch: 40\tValidation accuracy: 0.4166666666666667\n",
            "Epoch: 50\tValidation accuracy: 0.4166666666666667\n",
            "Test accuracy: 0.4166666666666667\n"
          ]
        }
      ]
    },
    {
      "cell_type": "code",
      "source": [
        "energy_with_residual = use_gnn(seed=42, hidden_dim=16, num_gnn_layers=80, use_residual=True)"
      ],
      "metadata": {
        "id": "EPp3JdJrh7JY",
        "colab": {
          "base_uri": "https://localhost:8080/"
        },
        "outputId": "57ca8b7b-c608-4909-8680-d26316644dae"
      },
      "execution_count": null,
      "outputs": [
        {
          "output_type": "stream",
          "name": "stdout",
          "text": [
            "Epoch: 10\tValidation accuracy: 0.4166666666666667\n",
            "Epoch: 20\tValidation accuracy: 0.4166666666666667\n",
            "Epoch: 30\tValidation accuracy: 0.4166666666666667\n",
            "Epoch: 40\tValidation accuracy: 0.4166666666666667\n",
            "Epoch: 50\tValidation accuracy: 0.4166666666666667\n",
            "Test accuracy: 0.4166666666666667\n"
          ]
        }
      ]
    },
    {
      "cell_type": "code",
      "source": [
        "num_gnn_layers = 80\n",
        "x = np.arange(1, num_gnn_layers+1)\n",
        "\n",
        "plt.figure(figsize=(12, 4))\n",
        "plt.plot(x, energy_baseline, label=\"DeepGCN\")\n",
        "plt.plot(x, energy_with_pn, label=\"PairNorm-DeepGCN\")\n",
        "plt.plot(x, energy_with_reg, label=\"Reg-DeepGCN\")\n",
        "plt.plot(x, energy_with_residual, label=\"Res-DeepGCN\")\n",
        "plt.xticks(np.arange(0, num_gnn_layers+1, 2), fontsize=8)\n",
        "plt.yticks(fontsize=8)\n",
        "plt.xlim(0, np.max(x)+1)\n",
        "plt.xlabel(\"Depth\", fontsize=16)\n",
        "plt.ylabel(\"log10 Dirichlet Energy\", fontsize=16)\n",
        "plt.legend(fontsize=12)\n",
        "plt.grid()\n",
        "plt.savefig('oversmooth.eps', dpi=300, bbox_inches='tight')"
      ],
      "metadata": {
        "id": "_cx_M9uqUMlP",
        "colab": {
          "base_uri": "https://localhost:8080/",
          "height": 408
        },
        "outputId": "e6e570d4-2a6f-487a-aaf4-9a5d58dc9c78"
      },
      "execution_count": null,
      "outputs": [
        {
          "output_type": "stream",
          "name": "stderr",
          "text": [
            "WARNING:matplotlib.backends.backend_ps:The PostScript backend does not support transparency; partially transparent artists will be rendered opaque.\n"
          ]
        },
        {
          "output_type": "display_data",
          "data": {
            "text/plain": [
              "<Figure size 1200x400 with 1 Axes>"
            ],
            "image/png": "[encoded data removed]"
          },
          "metadata": {}
        }
      ]
    },
    {
      "cell_type": "code",
      "source": [
        "# energy_with_reg"
      ],
      "metadata": {
        "id": "F2f1_ETtdLVr"
      },
      "execution_count": null,
      "outputs": []
    }
  ],
  "metadata": {
    "accelerator": "GPU",
    "colab": {
      "provenance": [],
      "gpuType": "T4",
      "machine_shape": "hm"
    },
    "kernelspec": {
      "display_name": "Python 3",
      "name": "python3"
    },
    "language_info": {
      "name": "python"
    }
  },
  "nbformat": 4,
  "nbformat_minor": 0
}