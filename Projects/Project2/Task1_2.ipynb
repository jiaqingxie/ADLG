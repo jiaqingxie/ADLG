{
  "cells": [
    {
      "cell_type": "markdown",
      "metadata": {
        "id": "PgIMy_yRERf7"
      },
      "source": [
        "# Task 1: Knowledge Graphs\n",
        "\n",
        "\n",
        "\n",
        "\n",
        "## 1.2 AM dataset"
      ]
    },
    {
      "cell_type": "markdown",
      "metadata": {
        "id": "x4BXDfYNEDtF"
      },
      "source": [
        "#### 1.2.0 Install and import libraries"
      ]
    },
    {
      "cell_type": "code",
      "execution_count": null,
      "metadata": {
        "colab": {
          "base_uri": "https://localhost:8080/"
        },
        "id": "-VaZEQaiEDIK",
        "outputId": "56c57fb6-e419-4a89-c20d-2f7bb5d62a84"
      },
      "outputs": [
        {
          "output_type": "stream",
          "name": "stdout",
          "text": [
            "2.1.0+cu118\n",
            "\u001b[2K     \u001b[90m━━━━━━━━━━━━━━━━━━━━━━━━━━━━━━━━━━━━━━━━\u001b[0m \u001b[32m10.2/10.2 MB\u001b[0m \u001b[31m47.0 MB/s\u001b[0m eta \u001b[36m0:00:00\u001b[0m\n",
            "\u001b[2K     \u001b[90m━━━━━━━━━━━━━━━━━━━━━━━━━━━━━━━━━━━━━━━━\u001b[0m \u001b[32m4.9/4.9 MB\u001b[0m \u001b[31m27.7 MB/s\u001b[0m eta \u001b[36m0:00:00\u001b[0m\n",
            "\u001b[?25h  Installing build dependencies ... \u001b[?25l\u001b[?25hdone\n",
            "  Getting requirements to build wheel ... \u001b[?25l\u001b[?25hdone\n",
            "  Preparing metadata (pyproject.toml) ... \u001b[?25l\u001b[?25hdone\n",
            "  Building wheel for torch_geometric (pyproject.toml) ... \u001b[?25l\u001b[?25hdone\n",
            "Collecting rdflib\n",
            "  Downloading rdflib-7.0.0-py3-none-any.whl (531 kB)\n",
            "\u001b[2K     \u001b[90m━━━━━━━━━━━━━━━━━━━━━━━━━━━━━━━━━━━━━━━━\u001b[0m \u001b[32m531.9/531.9 kB\u001b[0m \u001b[31m8.2 MB/s\u001b[0m eta \u001b[36m0:00:00\u001b[0m\n",
            "\u001b[?25hCollecting isodate<0.7.0,>=0.6.0 (from rdflib)\n",
            "  Downloading isodate-0.6.1-py2.py3-none-any.whl (41 kB)\n",
            "\u001b[2K     \u001b[90m━━━━━━━━━━━━━━━━━━━━━━━━━━━━━━━━━━━━━━━━\u001b[0m \u001b[32m41.7/41.7 kB\u001b[0m \u001b[31m5.4 MB/s\u001b[0m eta \u001b[36m0:00:00\u001b[0m\n",
            "\u001b[?25hRequirement already satisfied: pyparsing<4,>=2.1.0 in /usr/local/lib/python3.10/dist-packages (from rdflib) (3.1.1)\n",
            "Requirement already satisfied: six in /usr/local/lib/python3.10/dist-packages (from isodate<0.7.0,>=0.6.0->rdflib) (1.16.0)\n",
            "Installing collected packages: isodate, rdflib\n",
            "Successfully installed isodate-0.6.1 rdflib-7.0.0\n"
          ]
        }
      ],
      "source": [
        "import torch\n",
        "import os\n",
        "os.environ['TORCH'] = torch.__version__\n",
        "print(torch.__version__)\n",
        "\n",
        "!pip install -q torch-scatter -f https://data.pyg.org/whl/torch-${TORCH}.html\n",
        "!pip install -q torch-sparse -f https://data.pyg.org/whl/torch-${TORCH}.html\n",
        "!pip install -q git+https://github.com/pyg-team/pytorch_geometric.git\n",
        "\n",
        "!pip install rdflib"
      ]
    },
    {
      "cell_type": "code",
      "execution_count": null,
      "metadata": {
        "id": "EVDiTroOEHTX"
      },
      "outputs": [],
      "source": [
        "from tqdm import tqdm\n",
        "import networkx as nx\n",
        "import numpy as np\n",
        "import torch\n",
        "import torch.nn as nn\n",
        "import torch.nn.functional as F\n",
        "from torch.utils.data import TensorDataset, DataLoader\n",
        "import torch_geometric\n",
        "import torch_geometric.nn as pyg_nn\n",
        "import matplotlib.pyplot as plt\n",
        "from sklearn.metrics import accuracy_score"
      ]
    },
    {
      "cell_type": "markdown",
      "metadata": {
        "id": "Blc1x1KwEh0C"
      },
      "source": [
        "#### 1.2.1 Data exploration and baselines"
      ]
    },
    {
      "cell_type": "markdown",
      "source": [
        "*a. Data exploration*"
      ],
      "metadata": {
        "id": "WIky1gRPEeaN"
      }
    },
    {
      "cell_type": "markdown",
      "source": [
        "Explore the data:"
      ],
      "metadata": {
        "id": "aOaVrY8-Essb"
      }
    },
    {
      "cell_type": "code",
      "execution_count": null,
      "metadata": {
        "colab": {
          "base_uri": "https://localhost:8080/"
        },
        "id": "eS9UWxrjCiY6",
        "outputId": "cb16792d-23c3-4346-eec3-e823bf66f47a"
      },
      "outputs": [
        {
          "output_type": "stream",
          "name": "stderr",
          "text": [
            "Downloading https://data.dgl.ai/dataset/am.tgz\n",
            "Extracting data/Entities/am.tgz\n",
            "Processing...\n",
            "Done!\n"
          ]
        },
        {
          "output_type": "stream",
          "name": "stdout",
          "text": [
            "Dataset: AMEntities()\n",
            "Data: Data(edge_index=[2, 11976642], edge_type=[11976642], train_idx=[802], train_y=[802], test_idx=[198], test_y=[198], num_nodes=1666764)\n",
            "\n",
            "Number of nodes: 1666764\n",
            "Number of edges: 11976642\n",
            "Number of features: 0\n",
            "Number of classes: 11\n",
            "Number of relations: 266\n",
            "Average node degree: 7.19\n",
            "Contains isolated nodes: False\n",
            "Contains self-loops: True\n",
            "Is undirected: True\n"
          ]
        }
      ],
      "source": [
        "from torch_geometric.datasets import Entities\n",
        "from torch_geometric.utils import to_networkx\n",
        "\n",
        "dataset = Entities('data/Entities', 'AM')\n",
        "data = dataset[0]\n",
        "print(f'Dataset: {dataset}')\n",
        "print(f'Data: {data}\\n')\n",
        "\n",
        "print(f'Number of nodes: {data.num_nodes}')\n",
        "print(f'Number of edges: {data.num_edges}')\n",
        "print(f'Number of features: {dataset.num_features}')\n",
        "print(f'Number of classes: {dataset.num_classes}')\n",
        "print(f'Number of relations: {dataset.num_relations}')\n",
        "print(f'Average node degree: {(data.num_edges) / data.num_nodes:.2f}')\n",
        "print(f'Contains isolated nodes: {data.has_isolated_nodes()}')\n",
        "print(f'Contains self-loops: {data.has_self_loops()}')\n",
        "print(f'Is undirected: {data.is_undirected()}')"
      ]
    },
    {
      "cell_type": "markdown",
      "source": [
        "As the graph is large, we need to do subgraph-sampling and use sparse tensors for edge index:"
      ],
      "metadata": {
        "id": "l3kxpqB1uYTq"
      }
    },
    {
      "cell_type": "code",
      "source": [
        "from torch_geometric.utils import k_hop_subgraph\n",
        "node_idx = torch.cat([data.train_idx, data.test_idx], dim=0)\n",
        "node_idx, edge_index, mapping, edge_mask = k_hop_subgraph(node_idx, 1, data.edge_index, relabel_nodes=True)\n",
        "\n",
        "data.num_nodes = node_idx.size(0)\n",
        "data.edge_index = edge_index\n",
        "data.edge_type = data.edge_type[edge_mask]\n",
        "data.train_idx = mapping[:data.train_idx.size(0)]\n",
        "data.test_idx = mapping[data.train_idx.size(0):]\n",
        "\n",
        "print(f'Updated data: {data}\\n')"
      ],
      "metadata": {
        "id": "IiDQYaKyGOTa",
        "colab": {
          "base_uri": "https://localhost:8080/"
        },
        "outputId": "df45be8a-a40e-4319-b682-d8b2edbb0031"
      },
      "execution_count": null,
      "outputs": [
        {
          "output_type": "stream",
          "name": "stdout",
          "text": [
            "Updated data: Data(edge_index=[2, 190378], edge_type=[190378], train_idx=[802], train_y=[802], test_idx=[198], test_y=[198], num_nodes=18176)\n",
            "\n"
          ]
        }
      ]
    },
    {
      "cell_type": "markdown",
      "source": [
        "Visualize the data:"
      ],
      "metadata": {
        "id": "-eu7JLxAIgfm"
      }
    },
    {
      "cell_type": "code",
      "source": [
        "# Choose nodes for visualization\n",
        "nodes = data.test_idx.numpy()[:10]\n",
        "edgelist = []\n",
        "typelist = []\n",
        "\n",
        "# Ues NetworkX\n",
        "G = nx.Graph()\n",
        "for node in nodes:\n",
        "    neighbors = data.edge_index[0, (data.edge_index[1] == node)].numpy()\n",
        "    G.add_node(node)\n",
        "    for neighbor in neighbors:\n",
        "        G.add_node(neighbor)\n",
        "        G.add_edge(neighbor, node)\n",
        "        edgelist.append((neighbor, node))\n",
        "        type = data.edge_type[torch.logical_and(data.edge_index[0] == neighbor, data.edge_index[1] == node)].numpy()\n",
        "        typelist.append(type[0])\n",
        "\n",
        "# Scale edge type values\n",
        "scale_min, scale_max = 0.2, 1.0\n",
        "colorlist = (scale_max - scale_min) / (np.max(typelist) - np.min(typelist)) * (typelist - np.min(typelist)) + scale_min\n",
        "\n",
        "# Plot\n",
        "fig, ax = plt.subplots(figsize=(4,4))\n",
        "pos = nx.spring_layout(G)\n",
        "nx.draw_networkx_nodes(G, pos, ax=ax, nodelist=list(G), node_size=10)\n",
        "nx.draw_networkx_edges(G, pos, edgelist=edgelist, edge_color=colorlist, edge_cmap=plt.cm.YlOrRd,\n",
        "                        width=1.5, ax=ax, edge_vmin=0, edge_vmax=1)\n",
        "plt.savefig('10-node-subgraph-1.2.png', dpi=300, bbox_inches='tight')"
      ],
      "metadata": {
        "id": "DJUmOx8VIjn_",
        "colab": {
          "base_uri": "https://localhost:8080/",
          "height": 345
        },
        "outputId": "83d34ef8-5a7c-457e-a758-266df9a0679a"
      },
      "execution_count": null,
      "outputs": [
        {
          "output_type": "display_data",
          "data": {
            "text/plain": [
              "<Figure size 400x400 with 1 Axes>"
            ],
            "image/png": "[encoded data removed]"
          },
          "metadata": {}
        }
      ]
    },
    {
      "cell_type": "markdown",
      "source": [
        "Augment features:"
      ],
      "metadata": {
        "id": "Ww0jffAdEyGE"
      }
    },
    {
      "cell_type": "code",
      "source": [
        "augment = \"arange\" # \"arange\" or \"one-hot\"\n",
        "if augment == \"arange\":\n",
        "    data.x = torch.arange(data.num_nodes, dtype=torch.float32)[:, None]\n",
        "elif augment == \"one-hot\":\n",
        "    data.x = torch.eye(data.num_nodes, dtype=torch.float32)\n",
        "dataset.num_augmented_features = data.x.shape[1]"
      ],
      "metadata": {
        "id": "iYLsCrq3EiuG"
      },
      "execution_count": null,
      "outputs": []
    },
    {
      "cell_type": "markdown",
      "source": [
        "*b. Random baseline*"
      ],
      "metadata": {
        "id": "WQJDbQtTE0FG"
      }
    },
    {
      "cell_type": "code",
      "source": [
        "def RandomClassifier(pred_len):\n",
        "    return torch.randint(0, dataset.num_classes, size=(pred_len,))\n",
        "\n",
        "def eval_random_accuracy(model, eval_y):\n",
        "    pred = model(eval_y.shape[0])\n",
        "    correct = pred.eq(eval_y).sum().item()\n",
        "    total = eval_y.shape[0]\n",
        "    return correct / total\n",
        "\n",
        "def use_random():\n",
        "    # model\n",
        "    random_model = RandomClassifier\n",
        "\n",
        "    # test\n",
        "    accuracy = eval_random_accuracy(random_model, data.test_y)\n",
        "    return accuracy\n",
        "\n",
        "num_runs = 10\n",
        "accuracies = []\n",
        "for run in range(num_runs):\n",
        "    print(\"### Run: {}\".format(run + 1))\n",
        "    accuracy = use_random()\n",
        "    accuracies.append(accuracy)\n",
        "print(\"Model: Random\")\n",
        "print(\"Accuracies: {}\".format(accuracies))\n",
        "print(\"Mean: {}\".format(np.mean(accuracies)))\n",
        "print(\"Standard deviation: {}\".format(np.std(accuracies)))"
      ],
      "metadata": {
        "id": "1vJEkRSCE5bt",
        "colab": {
          "base_uri": "https://localhost:8080/"
        },
        "outputId": "0b587ea1-0a14-4e24-af9f-197f928f1550"
      },
      "execution_count": null,
      "outputs": [
        {
          "output_type": "stream",
          "name": "stdout",
          "text": [
            "### Run: 1\n",
            "### Run: 2\n",
            "### Run: 3\n",
            "### Run: 4\n",
            "### Run: 5\n",
            "### Run: 6\n",
            "### Run: 7\n",
            "### Run: 8\n",
            "### Run: 9\n",
            "### Run: 10\n",
            "Model: Random\n",
            "Accuracies: [0.1414141414141414, 0.09595959595959595, 0.07575757575757576, 0.10606060606060606, 0.09595959595959595, 0.09090909090909091, 0.08080808080808081, 0.050505050505050504, 0.08585858585858586, 0.10101010101010101]\n",
            "Mean: 0.09242424242424242\n",
            "Standard deviation: 0.022135966667485983\n"
          ]
        }
      ]
    },
    {
      "cell_type": "markdown",
      "source": [
        "*c. Feature baseline*"
      ],
      "metadata": {
        "id": "5mDNyngDE1C9"
      }
    },
    {
      "cell_type": "code",
      "source": [
        "class MLPClassifier(nn.Module):\n",
        "    def __init__(self, node_dim, num_classes):\n",
        "        super(MLPClassifier, self).__init__()\n",
        "        self.logits = nn.Linear(node_dim, num_classes)\n",
        "\n",
        "    def forward(self, x):\n",
        "        return self.logits(x)\n",
        "\n",
        "    @torch.no_grad()\n",
        "    def eval_accuracy(self, eval_x, eval_y):\n",
        "        pred = self(eval_x).max(dim=1)[1]\n",
        "        correct = pred.eq(eval_y).sum().item()\n",
        "        total = eval_x.shape[0]\n",
        "        return correct / total\n",
        "\n",
        "def use_mlp(seed):\n",
        "    # seed\n",
        "    torch.manual_seed(seed)\n",
        "\n",
        "    # model and optimizer\n",
        "    mlp_model = MLPClassifier(dataset.num_augmented_features, dataset.num_classes)\n",
        "    optimizer = torch.optim.Adam(mlp_model.parameters(), lr=0.01, weight_decay=5e-4)\n",
        "\n",
        "    # train\n",
        "    for epoch in range(100):\n",
        "        mlp_model.train()\n",
        "        feature, label = data.x[data.train_idx], data.train_y\n",
        "        pred = mlp_model(feature)\n",
        "        loss = F.cross_entropy(pred, label)\n",
        "        optimizer.zero_grad()\n",
        "        loss.backward()\n",
        "        optimizer.step()\n",
        "\n",
        "        # valid\n",
        "        if (epoch + 1) % 20 == 0:\n",
        "            accuracy = mlp_model.eval_accuracy(data.x[data.test_idx], data.test_y)\n",
        "            print(\"Epoch: {}\\tValidation accuracy: {}\".format(epoch + 1, accuracy))\n",
        "\n",
        "    # test\n",
        "    accuracy = mlp_model.eval_accuracy(data.x[data.test_idx], data.test_y)\n",
        "    return accuracy\n",
        "\n",
        "seed_list = [0, 6415, 10492]\n",
        "num_runs = len(seed_list)\n",
        "accuracies = []\n",
        "for run in range(num_runs):\n",
        "    print(\"### Run: {}\".format(run + 1))\n",
        "    accuracy = use_mlp(seed=seed_list[run])\n",
        "    accuracies.append(accuracy)\n",
        "print(\"Model: MLP\")\n",
        "print(\"Accuracies: {}\".format(accuracies))\n",
        "print(\"Mean: {}\".format(np.mean(accuracies)))\n",
        "print(\"Standard deviation: {}\".format(np.std(accuracies)))"
      ],
      "metadata": {
        "id": "wSj2LhZFE50-",
        "colab": {
          "base_uri": "https://localhost:8080/"
        },
        "outputId": "fc773d48-9c08-4764-fddf-aab3ca33e094"
      },
      "execution_count": null,
      "outputs": [
        {
          "output_type": "stream",
          "name": "stdout",
          "text": [
            "### Run: 1\n",
            "Epoch: 20\tValidation accuracy: 0.3484848484848485\n",
            "Epoch: 40\tValidation accuracy: 0.3484848484848485\n",
            "Epoch: 60\tValidation accuracy: 0.3484848484848485\n",
            "Epoch: 80\tValidation accuracy: 0.08585858585858586\n",
            "Epoch: 100\tValidation accuracy: 0.06565656565656566\n",
            "### Run: 2\n",
            "Epoch: 20\tValidation accuracy: 0.04040404040404041\n",
            "Epoch: 40\tValidation accuracy: 0.08080808080808081\n",
            "Epoch: 60\tValidation accuracy: 0.3484848484848485\n",
            "Epoch: 80\tValidation accuracy: 0.3484848484848485\n",
            "Epoch: 100\tValidation accuracy: 0.3434343434343434\n",
            "### Run: 3\n",
            "Epoch: 20\tValidation accuracy: 0.025252525252525252\n",
            "Epoch: 40\tValidation accuracy: 0.050505050505050504\n",
            "Epoch: 60\tValidation accuracy: 0.04040404040404041\n",
            "Epoch: 80\tValidation accuracy: 0.030303030303030304\n",
            "Epoch: 100\tValidation accuracy: 0.3484848484848485\n",
            "Model: MLP\n",
            "Accuracies: [0.06565656565656566, 0.3434343434343434, 0.3484848484848485]\n",
            "Mean: 0.25252525252525254\n",
            "Standard deviation: 0.1321522013925277\n"
          ]
        }
      ]
    },
    {
      "cell_type": "markdown",
      "metadata": {
        "id": "Ppyz5d-WEqPg"
      },
      "source": [
        "#### 1.2.2 Is bigger = better?"
      ]
    },
    {
      "cell_type": "code",
      "execution_count": null,
      "metadata": {
        "id": "eaxxSPv7Etry"
      },
      "outputs": [],
      "source": [
        "import torch.nn.init as init\n",
        "class GNNClassifier(nn.Module):\n",
        "    def __init__(self, input_dim, hidden_dim, num_classes, num_gnn_layers, rgcn=pyg_nn.RGCNConv):\n",
        "        super(GNNClassifier, self).__init__()\n",
        "        self.gnn_layers = nn.ModuleList()\n",
        "        self.gnn_layers.append(rgcn(input_dim, hidden_dim, dataset.num_relations, num_bases=30))\n",
        "        # self.input_embed = nn.Parameter(torch.empty(input_dim, hidden_dim))\n",
        "        # init.xavier_uniform_(self.input_embed)\n",
        "        for i in range(num_gnn_layers - 1):\n",
        "            if i != num_gnn_layers - 2:\n",
        "                self.gnn_layers.append(rgcn(hidden_dim, hidden_dim, dataset.num_relations, num_bases=30))\n",
        "            else:\n",
        "                self.gnn_layers.append(rgcn(hidden_dim, num_classes, dataset.num_relations, num_bases=30))\n",
        "\n",
        "    def forward(self, edge_index, edge_type):\n",
        "        # x = self.input_embed\n",
        "        for i, layer in enumerate(self.gnn_layers):\n",
        "            if i == 0:\n",
        "                x = layer(None, edge_index, edge_type)\n",
        "            else:\n",
        "                x = layer(x, edge_index, edge_type)\n",
        "            if i < len(self.gnn_layers) - 1:\n",
        "                x = F.relu(x)\n",
        "        return F.log_softmax(x, dim=1)\n",
        "\n",
        "    @torch.no_grad()\n",
        "    def eval_accuracy(self, edge_index, edge_type, eval_idx, eval_label):\n",
        "        pred = self(edge_index, edge_type).max(dim=1)[1]\n",
        "        correct = pred[eval_idx].eq(eval_label).sum().item()\n",
        "        total = eval_idx.shape[0]\n",
        "        return correct / total\n",
        "\n",
        "def use_gnn(seed, hidden_dim, num_gnn_layers):\n",
        "    # seed\n",
        "    torch.manual_seed(seed)\n",
        "\n",
        "    # model and optimizer\n",
        "    gnn_model = GNNClassifier(input_dim=data.num_nodes,\n",
        "                              hidden_dim=hidden_dim,\n",
        "                              num_classes=dataset.num_classes,\n",
        "                              num_gnn_layers=num_gnn_layers).to(\"cuda\")\n",
        "    total_params = sum(p.numel() for p in gnn_model.parameters())\n",
        "    print(\"total parameters: {}\".format(total_params))\n",
        "    optimizer = torch.optim.Adam(gnn_model.parameters(), lr=0.01, weight_decay=5e-4)\n",
        "\n",
        "    # data\n",
        "    x, edge_index, edge_type = data.x, data.edge_index.to(\"cuda\"), data.edge_type.to(\"cuda\")\n",
        "    train_y, train_idx, test_y, test_idx = data.train_y.to(\"cuda\"), data.train_idx.to(\"cuda\"), data.test_y.to(\"cuda\"), data.test_idx.to(\"cuda\")\n",
        "\n",
        "    # train\n",
        "    for epoch in tqdm(range(100)):\n",
        "        gnn_model.train()\n",
        "        pred = gnn_model(edge_index, edge_type)\n",
        "        loss = F.nll_loss(pred[train_idx], train_y)\n",
        "        optimizer.zero_grad()\n",
        "        loss.backward()\n",
        "        optimizer.step()\n",
        "\n",
        "        # valid\n",
        "        if (epoch + 1) % 10 == 0:\n",
        "            accuracy = gnn_model.eval_accuracy(edge_index, edge_type, test_idx, test_y)\n",
        "            print(\"Epoch: {}\\tValidation accuracy: {}\".format(epoch + 1, accuracy))\n",
        "\n",
        "    # test\n",
        "    accuracy = gnn_model.eval_accuracy(edge_index, edge_type, test_idx, test_y)\n",
        "    return accuracy"
      ]
    },
    {
      "cell_type": "markdown",
      "source": [
        "Best model:"
      ],
      "metadata": {
        "id": "dxYj3uviflOG"
      }
    },
    {
      "cell_type": "code",
      "source": [
        "seed_list = [0, 42, 14504]\n",
        "num_runs = len(seed_list)\n",
        "accuracies = []\n",
        "for run in range(num_runs):\n",
        "    print(\"### Run: {}\".format(run + 1))\n",
        "    accuracy = use_gnn(seed=seed_list[run], hidden_dim=8, num_gnn_layers=2)\n",
        "    accuracies.append(accuracy)\n",
        "print(\"Model: Best model in section 1.1.5\")\n",
        "print(\"Accuracies: {}\".format(accuracies))\n",
        "print(\"Mean: {}\".format(np.mean(accuracies)))\n",
        "print(\"Standard deviation: {}\".format(np.std(accuracies)))"
      ],
      "metadata": {
        "id": "d4v_h6WBbWS6",
        "colab": {
          "base_uri": "https://localhost:8080/"
        },
        "outputId": "8661e428-57ee-41ef-eea6-d4f8e0b074a3"
      },
      "execution_count": null,
      "outputs": [
        {
          "output_type": "stream",
          "name": "stdout",
          "text": [
            "### Run: 1\n",
            "total parameters: 4526355\n"
          ]
        },
        {
          "output_type": "stream",
          "name": "stderr",
          "text": [
            " 10%|█         | 10/100 [00:13<01:47,  1.19s/it]"
          ]
        },
        {
          "output_type": "stream",
          "name": "stdout",
          "text": [
            "Epoch: 10\tValidation accuracy: 0.6919191919191919\n"
          ]
        },
        {
          "output_type": "stream",
          "name": "stderr",
          "text": [
            " 20%|██        | 20/100 [00:24<01:31,  1.15s/it]"
          ]
        },
        {
          "output_type": "stream",
          "name": "stdout",
          "text": [
            "Epoch: 20\tValidation accuracy: 0.803030303030303\n"
          ]
        },
        {
          "output_type": "stream",
          "name": "stderr",
          "text": [
            " 30%|███       | 30/100 [00:35<01:20,  1.15s/it]"
          ]
        },
        {
          "output_type": "stream",
          "name": "stdout",
          "text": [
            "Epoch: 30\tValidation accuracy: 0.8282828282828283\n"
          ]
        },
        {
          "output_type": "stream",
          "name": "stderr",
          "text": [
            " 40%|████      | 40/100 [00:46<01:09,  1.15s/it]"
          ]
        },
        {
          "output_type": "stream",
          "name": "stdout",
          "text": [
            "Epoch: 40\tValidation accuracy: 0.8535353535353535\n"
          ]
        },
        {
          "output_type": "stream",
          "name": "stderr",
          "text": [
            " 50%|█████     | 50/100 [00:56<00:57,  1.15s/it]"
          ]
        },
        {
          "output_type": "stream",
          "name": "stdout",
          "text": [
            "Epoch: 50\tValidation accuracy: 0.8535353535353535\n"
          ]
        },
        {
          "output_type": "stream",
          "name": "stderr",
          "text": [
            " 60%|██████    | 60/100 [01:07<00:46,  1.16s/it]"
          ]
        },
        {
          "output_type": "stream",
          "name": "stdout",
          "text": [
            "Epoch: 60\tValidation accuracy: 0.8535353535353535\n"
          ]
        },
        {
          "output_type": "stream",
          "name": "stderr",
          "text": [
            " 70%|███████   | 70/100 [01:18<00:34,  1.16s/it]"
          ]
        },
        {
          "output_type": "stream",
          "name": "stdout",
          "text": [
            "Epoch: 70\tValidation accuracy: 0.8737373737373737\n"
          ]
        },
        {
          "output_type": "stream",
          "name": "stderr",
          "text": [
            " 80%|████████  | 80/100 [01:28<00:22,  1.15s/it]"
          ]
        },
        {
          "output_type": "stream",
          "name": "stdout",
          "text": [
            "Epoch: 80\tValidation accuracy: 0.8737373737373737\n"
          ]
        },
        {
          "output_type": "stream",
          "name": "stderr",
          "text": [
            " 90%|█████████ | 90/100 [01:39<00:11,  1.15s/it]"
          ]
        },
        {
          "output_type": "stream",
          "name": "stdout",
          "text": [
            "Epoch: 90\tValidation accuracy: 0.8686868686868687\n"
          ]
        },
        {
          "output_type": "stream",
          "name": "stderr",
          "text": [
            "100%|██████████| 100/100 [01:50<00:00,  1.10s/it]"
          ]
        },
        {
          "output_type": "stream",
          "name": "stdout",
          "text": [
            "Epoch: 100\tValidation accuracy: 0.8636363636363636\n"
          ]
        },
        {
          "output_type": "stream",
          "name": "stderr",
          "text": [
            "\n"
          ]
        },
        {
          "output_type": "stream",
          "name": "stdout",
          "text": [
            "### Run: 2\n",
            "total parameters: 4526355\n"
          ]
        },
        {
          "output_type": "stream",
          "name": "stderr",
          "text": [
            " 10%|█         | 10/100 [00:10<01:43,  1.15s/it]"
          ]
        },
        {
          "output_type": "stream",
          "name": "stdout",
          "text": [
            "Epoch: 10\tValidation accuracy: 0.6262626262626263\n"
          ]
        },
        {
          "output_type": "stream",
          "name": "stderr",
          "text": [
            " 20%|██        | 20/100 [00:21<01:31,  1.15s/it]"
          ]
        },
        {
          "output_type": "stream",
          "name": "stdout",
          "text": [
            "Epoch: 20\tValidation accuracy: 0.7929292929292929\n"
          ]
        },
        {
          "output_type": "stream",
          "name": "stderr",
          "text": [
            " 30%|███       | 30/100 [00:31<01:20,  1.14s/it]"
          ]
        },
        {
          "output_type": "stream",
          "name": "stdout",
          "text": [
            "Epoch: 30\tValidation accuracy: 0.8181818181818182\n"
          ]
        },
        {
          "output_type": "stream",
          "name": "stderr",
          "text": [
            " 40%|████      | 40/100 [00:42<01:08,  1.15s/it]"
          ]
        },
        {
          "output_type": "stream",
          "name": "stdout",
          "text": [
            "Epoch: 40\tValidation accuracy: 0.8282828282828283\n"
          ]
        },
        {
          "output_type": "stream",
          "name": "stderr",
          "text": [
            " 50%|█████     | 50/100 [00:53<00:57,  1.15s/it]"
          ]
        },
        {
          "output_type": "stream",
          "name": "stdout",
          "text": [
            "Epoch: 50\tValidation accuracy: 0.8383838383838383\n"
          ]
        },
        {
          "output_type": "stream",
          "name": "stderr",
          "text": [
            " 60%|██████    | 60/100 [01:03<00:45,  1.14s/it]"
          ]
        },
        {
          "output_type": "stream",
          "name": "stdout",
          "text": [
            "Epoch: 60\tValidation accuracy: 0.8636363636363636\n"
          ]
        },
        {
          "output_type": "stream",
          "name": "stderr",
          "text": [
            " 70%|███████   | 70/100 [01:14<00:34,  1.15s/it]"
          ]
        },
        {
          "output_type": "stream",
          "name": "stdout",
          "text": [
            "Epoch: 70\tValidation accuracy: 0.8636363636363636\n"
          ]
        },
        {
          "output_type": "stream",
          "name": "stderr",
          "text": [
            " 80%|████████  | 80/100 [01:25<00:23,  1.15s/it]"
          ]
        },
        {
          "output_type": "stream",
          "name": "stdout",
          "text": [
            "Epoch: 80\tValidation accuracy: 0.8585858585858586\n"
          ]
        },
        {
          "output_type": "stream",
          "name": "stderr",
          "text": [
            " 90%|█████████ | 90/100 [01:36<00:11,  1.14s/it]"
          ]
        },
        {
          "output_type": "stream",
          "name": "stdout",
          "text": [
            "Epoch: 90\tValidation accuracy: 0.8535353535353535\n"
          ]
        },
        {
          "output_type": "stream",
          "name": "stderr",
          "text": [
            "100%|██████████| 100/100 [01:46<00:00,  1.07s/it]"
          ]
        },
        {
          "output_type": "stream",
          "name": "stdout",
          "text": [
            "Epoch: 100\tValidation accuracy: 0.8484848484848485\n",
            "### Run: 3\n"
          ]
        },
        {
          "output_type": "stream",
          "name": "stderr",
          "text": [
            "\n"
          ]
        },
        {
          "output_type": "stream",
          "name": "stdout",
          "text": [
            "total parameters: 4526355\n"
          ]
        },
        {
          "output_type": "stream",
          "name": "stderr",
          "text": [
            " 10%|█         | 10/100 [00:10<01:42,  1.14s/it]"
          ]
        },
        {
          "output_type": "stream",
          "name": "stdout",
          "text": [
            "Epoch: 10\tValidation accuracy: 0.7171717171717171\n"
          ]
        },
        {
          "output_type": "stream",
          "name": "stderr",
          "text": [
            " 20%|██        | 20/100 [00:21<01:31,  1.15s/it]"
          ]
        },
        {
          "output_type": "stream",
          "name": "stdout",
          "text": [
            "Epoch: 20\tValidation accuracy: 0.8333333333333334\n"
          ]
        },
        {
          "output_type": "stream",
          "name": "stderr",
          "text": [
            " 30%|███       | 30/100 [00:31<01:20,  1.15s/it]"
          ]
        },
        {
          "output_type": "stream",
          "name": "stdout",
          "text": [
            "Epoch: 30\tValidation accuracy: 0.8585858585858586\n"
          ]
        },
        {
          "output_type": "stream",
          "name": "stderr",
          "text": [
            " 40%|████      | 40/100 [00:42<01:09,  1.15s/it]"
          ]
        },
        {
          "output_type": "stream",
          "name": "stdout",
          "text": [
            "Epoch: 40\tValidation accuracy: 0.8636363636363636\n"
          ]
        },
        {
          "output_type": "stream",
          "name": "stderr",
          "text": [
            " 50%|█████     | 50/100 [00:53<00:57,  1.15s/it]"
          ]
        },
        {
          "output_type": "stream",
          "name": "stdout",
          "text": [
            "Epoch: 50\tValidation accuracy: 0.8686868686868687\n"
          ]
        },
        {
          "output_type": "stream",
          "name": "stderr",
          "text": [
            " 60%|██████    | 60/100 [01:04<00:45,  1.15s/it]"
          ]
        },
        {
          "output_type": "stream",
          "name": "stdout",
          "text": [
            "Epoch: 60\tValidation accuracy: 0.8686868686868687\n"
          ]
        },
        {
          "output_type": "stream",
          "name": "stderr",
          "text": [
            " 70%|███████   | 70/100 [01:14<00:34,  1.15s/it]"
          ]
        },
        {
          "output_type": "stream",
          "name": "stdout",
          "text": [
            "Epoch: 70\tValidation accuracy: 0.8737373737373737\n"
          ]
        },
        {
          "output_type": "stream",
          "name": "stderr",
          "text": [
            " 80%|████████  | 80/100 [01:25<00:22,  1.15s/it]"
          ]
        },
        {
          "output_type": "stream",
          "name": "stdout",
          "text": [
            "Epoch: 80\tValidation accuracy: 0.8838383838383839\n"
          ]
        },
        {
          "output_type": "stream",
          "name": "stderr",
          "text": [
            " 90%|█████████ | 90/100 [01:36<00:11,  1.14s/it]"
          ]
        },
        {
          "output_type": "stream",
          "name": "stdout",
          "text": [
            "Epoch: 90\tValidation accuracy: 0.8838383838383839\n"
          ]
        },
        {
          "output_type": "stream",
          "name": "stderr",
          "text": [
            "100%|██████████| 100/100 [01:46<00:00,  1.07s/it]"
          ]
        },
        {
          "output_type": "stream",
          "name": "stdout",
          "text": [
            "Epoch: 100\tValidation accuracy: 0.8787878787878788\n",
            "Model: Best model in section 1.1.5\n",
            "Accuracies: [0.8636363636363636, 0.8484848484848485, 0.8787878787878788]\n",
            "Mean: 0.8636363636363636\n",
            "Standard deviation: 0.012371160317086747\n"
          ]
        },
        {
          "output_type": "stream",
          "name": "stderr",
          "text": [
            "\n"
          ]
        }
      ]
    },
    {
      "cell_type": "code",
      "source": [
        "import gc\n",
        "gc.collect() # Python thing\n",
        "# torch.cuda.empty_cache() # PyTorch thing\n",
        "with torch.no_grad():\n",
        "    torch.cuda.empty_cache()"
      ],
      "metadata": {
        "id": "HRA_yGMhwFxX"
      },
      "execution_count": null,
      "outputs": []
    },
    {
      "cell_type": "markdown",
      "source": [
        "Worst model:"
      ],
      "metadata": {
        "id": "YLHW3cd9fnwF"
      }
    },
    {
      "cell_type": "code",
      "source": [
        "seed_list = [0, 42, 14504]\n",
        "num_runs = len(seed_list)\n",
        "accuracies = []\n",
        "for run in range(num_runs):\n",
        "    print(\"### Run: {}\".format(run + 1))\n",
        "    accuracy = use_gnn(seed=seed_list[run], hidden_dim=8, num_gnn_layers=60)\n",
        "    accuracies.append(accuracy)\n",
        "print(\"Model: Worst model in section 1.1.5\")\n",
        "print(\"Accuracies: {}\".format(accuracies))\n",
        "print(\"Mean: {}\".format(np.mean(accuracies)))\n",
        "print(\"Standard deviation: {}\".format(np.std(accuracies)))"
      ],
      "metadata": {
        "id": "eOA51UOWbWYq",
        "colab": {
          "base_uri": "https://localhost:8080/"
        },
        "outputId": "e66c0393-37da-41d4-cb84-13096f0bc75e"
      },
      "execution_count": null,
      "outputs": [
        {
          "output_type": "stream",
          "name": "stdout",
          "text": [
            "### Run: 1\n",
            "total parameters: 5104731\n"
          ]
        },
        {
          "output_type": "stream",
          "name": "stderr",
          "text": [
            " 10%|█         | 10/100 [02:39<25:42, 17.14s/it]"
          ]
        },
        {
          "output_type": "stream",
          "name": "stdout",
          "text": [
            "Epoch: 10\tValidation accuracy: 0.3333333333333333\n"
          ]
        },
        {
          "output_type": "stream",
          "name": "stderr",
          "text": [
            " 20%|██        | 20/100 [05:18<22:59, 17.25s/it]"
          ]
        },
        {
          "output_type": "stream",
          "name": "stdout",
          "text": [
            "Epoch: 20\tValidation accuracy: 0.35353535353535354\n"
          ]
        },
        {
          "output_type": "stream",
          "name": "stderr",
          "text": [
            " 30%|███       | 30/100 [07:55<19:53, 17.04s/it]"
          ]
        },
        {
          "output_type": "stream",
          "name": "stdout",
          "text": [
            "Epoch: 30\tValidation accuracy: 0.3888888888888889\n"
          ]
        },
        {
          "output_type": "stream",
          "name": "stderr",
          "text": [
            " 40%|████      | 40/100 [10:33<17:07, 17.12s/it]"
          ]
        },
        {
          "output_type": "stream",
          "name": "stdout",
          "text": [
            "Epoch: 40\tValidation accuracy: 0.3888888888888889\n"
          ]
        },
        {
          "output_type": "stream",
          "name": "stderr",
          "text": [
            " 50%|█████     | 50/100 [13:12<14:12, 17.04s/it]"
          ]
        },
        {
          "output_type": "stream",
          "name": "stdout",
          "text": [
            "Epoch: 50\tValidation accuracy: 0.601010101010101\n"
          ]
        },
        {
          "output_type": "stream",
          "name": "stderr",
          "text": [
            " 60%|██████    | 60/100 [15:51<11:30, 17.26s/it]"
          ]
        },
        {
          "output_type": "stream",
          "name": "stdout",
          "text": [
            "Epoch: 60\tValidation accuracy: 0.7474747474747475\n"
          ]
        },
        {
          "output_type": "stream",
          "name": "stderr",
          "text": [
            " 70%|███████   | 70/100 [18:30<08:38, 17.27s/it]"
          ]
        },
        {
          "output_type": "stream",
          "name": "stdout",
          "text": [
            "Epoch: 70\tValidation accuracy: 0.7777777777777778\n"
          ]
        },
        {
          "output_type": "stream",
          "name": "stderr",
          "text": [
            " 80%|████████  | 80/100 [21:10<05:45, 17.26s/it]"
          ]
        },
        {
          "output_type": "stream",
          "name": "stdout",
          "text": [
            "Epoch: 80\tValidation accuracy: 0.7626262626262627\n"
          ]
        },
        {
          "output_type": "stream",
          "name": "stderr",
          "text": [
            " 90%|█████████ | 90/100 [23:49<02:52, 17.22s/it]"
          ]
        },
        {
          "output_type": "stream",
          "name": "stdout",
          "text": [
            "Epoch: 90\tValidation accuracy: 0.7929292929292929\n"
          ]
        },
        {
          "output_type": "stream",
          "name": "stderr",
          "text": [
            "100%|██████████| 100/100 [26:28<00:00, 15.89s/it]"
          ]
        },
        {
          "output_type": "stream",
          "name": "stdout",
          "text": [
            "Epoch: 100\tValidation accuracy: 0.7878787878787878\n"
          ]
        },
        {
          "output_type": "stream",
          "name": "stderr",
          "text": [
            "\n"
          ]
        },
        {
          "output_type": "stream",
          "name": "stdout",
          "text": [
            "### Run: 2\n",
            "total parameters: 5104731\n"
          ]
        },
        {
          "output_type": "stream",
          "name": "stderr",
          "text": [
            " 10%|█         | 10/100 [02:37<25:31, 17.01s/it]"
          ]
        },
        {
          "output_type": "stream",
          "name": "stdout",
          "text": [
            "Epoch: 10\tValidation accuracy: 0.12121212121212122\n"
          ]
        },
        {
          "output_type": "stream",
          "name": "stderr",
          "text": [
            " 20%|██        | 20/100 [05:15<22:47, 17.09s/it]"
          ]
        },
        {
          "output_type": "stream",
          "name": "stdout",
          "text": [
            "Epoch: 20\tValidation accuracy: 0.41919191919191917\n"
          ]
        },
        {
          "output_type": "stream",
          "name": "stderr",
          "text": [
            " 30%|███       | 30/100 [07:52<19:53, 17.05s/it]"
          ]
        },
        {
          "output_type": "stream",
          "name": "stdout",
          "text": [
            "Epoch: 30\tValidation accuracy: 0.702020202020202\n"
          ]
        },
        {
          "output_type": "stream",
          "name": "stderr",
          "text": [
            " 40%|████      | 40/100 [10:30<17:01, 17.03s/it]"
          ]
        },
        {
          "output_type": "stream",
          "name": "stdout",
          "text": [
            "Epoch: 40\tValidation accuracy: 0.8080808080808081\n"
          ]
        },
        {
          "output_type": "stream",
          "name": "stderr",
          "text": [
            " 50%|█████     | 50/100 [13:08<14:12, 17.06s/it]"
          ]
        },
        {
          "output_type": "stream",
          "name": "stdout",
          "text": [
            "Epoch: 50\tValidation accuracy: 0.8080808080808081\n"
          ]
        },
        {
          "output_type": "stream",
          "name": "stderr",
          "text": [
            " 60%|██████    | 60/100 [15:46<11:22, 17.07s/it]"
          ]
        },
        {
          "output_type": "stream",
          "name": "stdout",
          "text": [
            "Epoch: 60\tValidation accuracy: 0.8080808080808081\n"
          ]
        },
        {
          "output_type": "stream",
          "name": "stderr",
          "text": [
            " 70%|███████   | 70/100 [18:24<08:31, 17.06s/it]"
          ]
        },
        {
          "output_type": "stream",
          "name": "stdout",
          "text": [
            "Epoch: 70\tValidation accuracy: 0.7828282828282829\n"
          ]
        },
        {
          "output_type": "stream",
          "name": "stderr",
          "text": [
            " 80%|████████  | 80/100 [21:04<05:45, 17.29s/it]"
          ]
        },
        {
          "output_type": "stream",
          "name": "stdout",
          "text": [
            "Epoch: 80\tValidation accuracy: 0.7878787878787878\n"
          ]
        },
        {
          "output_type": "stream",
          "name": "stderr",
          "text": [
            " 90%|█████████ | 90/100 [23:43<02:52, 17.24s/it]"
          ]
        },
        {
          "output_type": "stream",
          "name": "stdout",
          "text": [
            "Epoch: 90\tValidation accuracy: 0.803030303030303\n"
          ]
        },
        {
          "output_type": "stream",
          "name": "stderr",
          "text": [
            "100%|██████████| 100/100 [26:23<00:00, 15.83s/it]"
          ]
        },
        {
          "output_type": "stream",
          "name": "stdout",
          "text": [
            "Epoch: 100\tValidation accuracy: 0.803030303030303\n"
          ]
        },
        {
          "output_type": "stream",
          "name": "stderr",
          "text": [
            "\n"
          ]
        },
        {
          "output_type": "stream",
          "name": "stdout",
          "text": [
            "### Run: 3\n",
            "total parameters: 5104731\n"
          ]
        },
        {
          "output_type": "stream",
          "name": "stderr",
          "text": [
            " 10%|█         | 10/100 [02:38<25:50, 17.23s/it]"
          ]
        },
        {
          "output_type": "stream",
          "name": "stdout",
          "text": [
            "Epoch: 10\tValidation accuracy: 0.6565656565656566\n"
          ]
        },
        {
          "output_type": "stream",
          "name": "stderr",
          "text": [
            " 20%|██        | 20/100 [05:19<23:20, 17.50s/it]"
          ]
        },
        {
          "output_type": "stream",
          "name": "stdout",
          "text": [
            "Epoch: 20\tValidation accuracy: 0.7929292929292929\n"
          ]
        },
        {
          "output_type": "stream",
          "name": "stderr",
          "text": [
            " 30%|███       | 30/100 [07:59<20:19, 17.43s/it]"
          ]
        },
        {
          "output_type": "stream",
          "name": "stdout",
          "text": [
            "Epoch: 30\tValidation accuracy: 0.8131313131313131\n"
          ]
        },
        {
          "output_type": "stream",
          "name": "stderr",
          "text": [
            " 40%|████      | 40/100 [10:39<17:10, 17.18s/it]"
          ]
        },
        {
          "output_type": "stream",
          "name": "stdout",
          "text": [
            "Epoch: 40\tValidation accuracy: 0.797979797979798\n"
          ]
        },
        {
          "output_type": "stream",
          "name": "stderr",
          "text": [
            " 50%|█████     | 50/100 [13:17<14:17, 17.14s/it]"
          ]
        },
        {
          "output_type": "stream",
          "name": "stdout",
          "text": [
            "Epoch: 50\tValidation accuracy: 0.7575757575757576\n"
          ]
        },
        {
          "output_type": "stream",
          "name": "stderr",
          "text": [
            " 60%|██████    | 60/100 [15:56<11:27, 17.18s/it]"
          ]
        },
        {
          "output_type": "stream",
          "name": "stdout",
          "text": [
            "Epoch: 60\tValidation accuracy: 0.803030303030303\n"
          ]
        },
        {
          "output_type": "stream",
          "name": "stderr",
          "text": [
            " 70%|███████   | 70/100 [18:36<08:39, 17.32s/it]"
          ]
        },
        {
          "output_type": "stream",
          "name": "stdout",
          "text": [
            "Epoch: 70\tValidation accuracy: 0.8282828282828283\n"
          ]
        },
        {
          "output_type": "stream",
          "name": "stderr",
          "text": [
            " 80%|████████  | 80/100 [21:15<05:43, 17.17s/it]"
          ]
        },
        {
          "output_type": "stream",
          "name": "stdout",
          "text": [
            "Epoch: 80\tValidation accuracy: 0.8383838383838383\n"
          ]
        },
        {
          "output_type": "stream",
          "name": "stderr",
          "text": [
            " 90%|█████████ | 90/100 [23:54<02:51, 17.19s/it]"
          ]
        },
        {
          "output_type": "stream",
          "name": "stdout",
          "text": [
            "Epoch: 90\tValidation accuracy: 0.8333333333333334\n"
          ]
        },
        {
          "output_type": "stream",
          "name": "stderr",
          "text": [
            "100%|██████████| 100/100 [26:31<00:00, 15.92s/it]"
          ]
        },
        {
          "output_type": "stream",
          "name": "stdout",
          "text": [
            "Epoch: 100\tValidation accuracy: 0.8282828282828283\n"
          ]
        },
        {
          "output_type": "stream",
          "name": "stderr",
          "text": [
            "\n"
          ]
        },
        {
          "output_type": "stream",
          "name": "stdout",
          "text": [
            "Model: Worst model in section 1.1.5\n",
            "Accuracies: [0.7878787878787878, 0.803030303030303, 0.8282828282828283]\n",
            "Mean: 0.8063973063973063\n",
            "Standard deviation: 0.016665816391602147\n"
          ]
        }
      ]
    },
    {
      "cell_type": "markdown",
      "metadata": {
        "id": "n4u7v_0aEt8F"
      },
      "source": [
        "#### 1.2.3 Better GNN"
      ]
    },
    {
      "cell_type": "code",
      "source": [
        "import torch.nn.init as init\n",
        "class GNNClassifier(nn.Module):\n",
        "    def __init__(self, input_dim, hidden_dim, num_classes, num_gnn_layers, rgcn=pyg_nn.RGCNConv):\n",
        "        super(GNNClassifier, self).__init__()\n",
        "        self.gnn_layers = nn.ModuleList()\n",
        "        self.gnn_layers.append(rgcn(input_dim, hidden_dim, dataset.num_relations, num_bases=20))\n",
        "        # self.input_embed = nn.Parameter(torch.empty(input_dim, hidden_dim))\n",
        "        # init.xavier_uniform_(self.input_embed)\n",
        "        for i in range(num_gnn_layers - 1):\n",
        "            if i != num_gnn_layers - 2:\n",
        "                self.gnn_layers.append(rgcn(hidden_dim, hidden_dim, dataset.num_relations, num_bases=20))\n",
        "            else:\n",
        "                self.gnn_layers.append(rgcn(hidden_dim, num_classes, dataset.num_relations, num_bases=20))\n",
        "\n",
        "    def forward(self, edge_index, edge_type):\n",
        "        # x = self.input_embed\n",
        "        for i, layer in enumerate(self.gnn_layers):\n",
        "            if i == 0:\n",
        "                x = layer(None, edge_index, edge_type)\n",
        "            else:\n",
        "                x = layer(x, edge_index, edge_type)\n",
        "            if i < len(self.gnn_layers) - 1:\n",
        "                x = F.relu(x)\n",
        "        return F.log_softmax(x, dim=1)\n",
        "\n",
        "    @torch.no_grad()\n",
        "    def eval_accuracy(self, edge_index, edge_type, eval_idx, eval_label):\n",
        "        pred = self(edge_index, edge_type).max(dim=1)[1]\n",
        "        correct = pred[eval_idx].eq(eval_label).sum().item()\n",
        "        total = eval_idx.shape[0]\n",
        "        return correct / total\n",
        "\n",
        "def use_gnn(seed, hidden_dim, num_gnn_layers):\n",
        "    # seed\n",
        "    torch.manual_seed(seed)\n",
        "\n",
        "    # model and optimizer\n",
        "    gnn_model = GNNClassifier(input_dim=data.num_nodes,\n",
        "                              hidden_dim=hidden_dim,\n",
        "                              num_classes=dataset.num_classes,\n",
        "                              num_gnn_layers=num_gnn_layers).to(\"cuda\")\n",
        "    total_params = sum(p.numel() for p in gnn_model.parameters())\n",
        "    print(\"total parameters: {}\".format(total_params))\n",
        "    optimizer = torch.optim.Adam(gnn_model.parameters(), lr=0.01, weight_decay=5e-4)\n",
        "\n",
        "    # data\n",
        "    x, edge_index, edge_type = data.x, data.edge_index.to(\"cuda\"), data.edge_type.to(\"cuda\")\n",
        "    train_y, train_idx, test_y, test_idx = data.train_y.to(\"cuda\"), data.train_idx.to(\"cuda\"), data.test_y.to(\"cuda\"), data.test_idx.to(\"cuda\")\n",
        "\n",
        "    # train\n",
        "    for epoch in tqdm(range(100)):\n",
        "        gnn_model.train()\n",
        "        pred = gnn_model(edge_index, edge_type)\n",
        "        loss = F.nll_loss(pred[train_idx], train_y)\n",
        "        optimizer.zero_grad()\n",
        "        loss.backward()\n",
        "        optimizer.step()\n",
        "\n",
        "        # valid\n",
        "        if (epoch + 1) % 10 == 0:\n",
        "            accuracy = gnn_model.eval_accuracy(edge_index, edge_type, test_idx, test_y)\n",
        "            print(\"Epoch: {}\\tValidation accuracy: {}\".format(epoch + 1, accuracy))\n",
        "\n",
        "    # test\n",
        "    accuracy = gnn_model.eval_accuracy(edge_index, edge_type, test_idx, test_y)\n",
        "    return accuracy"
      ],
      "metadata": {
        "id": "x0wICy5cVg6H"
      },
      "execution_count": null,
      "outputs": []
    },
    {
      "cell_type": "code",
      "execution_count": null,
      "metadata": {
        "id": "ji9YcElgEw4i"
      },
      "outputs": [],
      "source": [
        "import gc\n",
        "gc.collect() # Python thing\n",
        "# torch.cuda.empty_cache() # PyTorch thing\n",
        "with torch.no_grad():\n",
        "    torch.cuda.empty_cache()"
      ]
    },
    {
      "cell_type": "code",
      "source": [
        "seed_list = [14504]\n",
        "num_runs = len(seed_list)\n",
        "accuracies = []\n",
        "for run in range(num_runs):\n",
        "    print(\"### Run: {}\".format(run + 1))\n",
        "    accuracy = use_gnn(seed=seed_list[run], hidden_dim=16, num_gnn_layers=2)\n",
        "    accuracies.append(accuracy)\n",
        "print(\"Model: Best model in section 1.1.5\")\n",
        "print(\"Accuracies: {}\".format(accuracies))\n",
        "print(\"Mean: {}\".format(np.mean(accuracies)))\n",
        "print(\"Standard deviation: {}\".format(np.std(accuracies)))"
      ],
      "metadata": {
        "colab": {
          "base_uri": "https://localhost:8080/"
        },
        "id": "TKcHLfH-QPWW",
        "outputId": "d671f365-d8fa-41cd-c528-21f3449003bf"
      },
      "execution_count": null,
      "outputs": [
        {
          "output_type": "stream",
          "name": "stdout",
          "text": [
            "### Run: 1\n",
            "total parameters: 6121499\n"
          ]
        },
        {
          "output_type": "stream",
          "name": "stderr",
          "text": [
            " 10%|█         | 10/100 [00:16<02:40,  1.78s/it]"
          ]
        },
        {
          "output_type": "stream",
          "name": "stdout",
          "text": [
            "Epoch: 10\tValidation accuracy: 0.7171717171717171\n"
          ]
        },
        {
          "output_type": "stream",
          "name": "stderr",
          "text": [
            " 20%|██        | 20/100 [00:33<02:22,  1.78s/it]"
          ]
        },
        {
          "output_type": "stream",
          "name": "stdout",
          "text": [
            "Epoch: 20\tValidation accuracy: 0.8232323232323232\n"
          ]
        },
        {
          "output_type": "stream",
          "name": "stderr",
          "text": [
            " 30%|███       | 30/100 [00:49<02:04,  1.78s/it]"
          ]
        },
        {
          "output_type": "stream",
          "name": "stdout",
          "text": [
            "Epoch: 30\tValidation accuracy: 0.8686868686868687\n"
          ]
        },
        {
          "output_type": "stream",
          "name": "stderr",
          "text": [
            " 40%|████      | 40/100 [01:06<01:46,  1.78s/it]"
          ]
        },
        {
          "output_type": "stream",
          "name": "stdout",
          "text": [
            "Epoch: 40\tValidation accuracy: 0.8636363636363636\n"
          ]
        },
        {
          "output_type": "stream",
          "name": "stderr",
          "text": [
            " 50%|█████     | 50/100 [01:23<01:29,  1.79s/it]"
          ]
        },
        {
          "output_type": "stream",
          "name": "stdout",
          "text": [
            "Epoch: 50\tValidation accuracy: 0.8787878787878788\n"
          ]
        },
        {
          "output_type": "stream",
          "name": "stderr",
          "text": [
            " 60%|██████    | 60/100 [01:39<01:11,  1.79s/it]"
          ]
        },
        {
          "output_type": "stream",
          "name": "stdout",
          "text": [
            "Epoch: 60\tValidation accuracy: 0.8787878787878788\n"
          ]
        },
        {
          "output_type": "stream",
          "name": "stderr",
          "text": [
            " 70%|███████   | 70/100 [01:56<00:53,  1.78s/it]"
          ]
        },
        {
          "output_type": "stream",
          "name": "stdout",
          "text": [
            "Epoch: 70\tValidation accuracy: 0.8737373737373737\n"
          ]
        },
        {
          "output_type": "stream",
          "name": "stderr",
          "text": [
            " 80%|████████  | 80/100 [02:13<00:35,  1.78s/it]"
          ]
        },
        {
          "output_type": "stream",
          "name": "stdout",
          "text": [
            "Epoch: 80\tValidation accuracy: 0.8737373737373737\n"
          ]
        },
        {
          "output_type": "stream",
          "name": "stderr",
          "text": [
            " 90%|█████████ | 90/100 [02:29<00:17,  1.78s/it]"
          ]
        },
        {
          "output_type": "stream",
          "name": "stdout",
          "text": [
            "Epoch: 90\tValidation accuracy: 0.8787878787878788\n"
          ]
        },
        {
          "output_type": "stream",
          "name": "stderr",
          "text": [
            "100%|██████████| 100/100 [02:46<00:00,  1.67s/it]"
          ]
        },
        {
          "output_type": "stream",
          "name": "stdout",
          "text": [
            "Epoch: 100\tValidation accuracy: 0.8737373737373737\n"
          ]
        },
        {
          "output_type": "stream",
          "name": "stderr",
          "text": [
            "\n"
          ]
        },
        {
          "output_type": "stream",
          "name": "stdout",
          "text": [
            "Model: Best model in section 1.1.5\n",
            "Accuracies: [0.8737373737373737]\n",
            "Mean: 0.8737373737373737\n",
            "Standard deviation: 0.0\n"
          ]
        }
      ]
    }
  ],
  "metadata": {
    "colab": {
      "machine_shape": "hm",
      "provenance": [],
      "gpuType": "T4"
    },
    "kernelspec": {
      "display_name": "Python 3",
      "name": "python3"
    },
    "language_info": {
      "name": "python"
    },
    "accelerator": "GPU"
  },
  "nbformat": 4,
  "nbformat_minor": 0
}