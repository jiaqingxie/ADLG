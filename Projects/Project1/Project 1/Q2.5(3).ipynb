{
 "cells": [
  {
   "cell_type": "code",
   "execution_count": 1,
   "id": "ea2e0143",
   "metadata": {},
   "outputs": [],
   "source": [
    "import random\n",
    "import wandb\n",
    "from tqdm import tqdm\n",
    "import networkx as nx\n",
    "import numpy as np\n",
    "import pandas as pd\n",
    "import torch\n",
    "import torch.nn as nn\n",
    "import torch.nn.functional as F\n",
    "from torch.utils.data import TensorDataset, DataLoader\n",
    "import torch_geometric\n",
    "import torch_geometric.nn as pyg_nn\n",
    "import matplotlib.pyplot as plt\n",
    "import plotly.express as px\n",
    "import seaborn as sns\n",
    "from functools import partial\n",
    "from sklearn.decomposition import PCA\n",
    "from sklearn.manifold import TSNE\n",
    "from sklearn.linear_model import LogisticRegression\n",
    "from sklearn.svm import SVC\n",
    "from sklearn.metrics import accuracy_score"
   ]
  },
  {
   "cell_type": "code",
   "execution_count": 2,
   "id": "acc545b4",
   "metadata": {},
   "outputs": [],
   "source": [
    "from torch_geometric.datasets import Planetoid\n",
    "dataset = Planetoid(name='Cora', root='data/cora', split=\"public\")\n",
    "data = dataset[0]"
   ]
  },
  {
   "cell_type": "code",
   "execution_count": 3,
   "id": "a6aa2e5f",
   "metadata": {},
   "outputs": [
    {
     "name": "stdout",
     "output_type": "stream",
     "text": [
      "Number of training nodes: 140\n",
      "Number of validation nodes: 500\n",
      "Number of test nodes: 1000\n",
      "Number of nodes: 2708\n"
     ]
    }
   ],
   "source": [
    "print(f'Number of training nodes: {data.train_mask.sum()}')\n",
    "print(f'Number of validation nodes: {data.val_mask.sum()}')\n",
    "print(f'Number of test nodes: {data.test_mask.sum()}')\n",
    "print(f'Number of nodes: {data.num_nodes}')"
   ]
  },
  {
   "cell_type": "code",
   "execution_count": 44,
   "id": "65fbba60",
   "metadata": {},
   "outputs": [],
   "source": [
    "class GNN_Refined(nn.Module):\n",
    "\n",
    "    def __init__(self, input_dim: int, hidden_dim: int, num_classes: int,\n",
    "                 num_gnn_layers: int = 1, gnn_conv: nn.Module = pyg_nn.GCNConv):\n",
    "        \n",
    "        super(GNN_Refined, self).__init__()\n",
    "        self.gnn_layers = nn.ModuleList()\n",
    "        self.gnn_layers.append(gnn_conv(input_dim, hidden_dim))\n",
    "        for _ in range(num_gnn_layers - 1):\n",
    "            self.gnn_layers.append(gnn_conv(hidden_dim, hidden_dim))\n",
    "        self.activation = nn.ReLU()\n",
    "        self.logits = nn.Linear(hidden_dim, num_classes)\n",
    "\n",
    "    def forward(self, x: torch.Tensor, edge_index: torch.Tensor):\n",
    "        for i, layer in enumerate(self.gnn_layers):\n",
    "            x = layer(x, edge_index)\n",
    "            if i < len(self.gnn_layers) - 1:\n",
    "                x = self.activation(x)\n",
    "                \n",
    "                \n",
    "        logits = self.logits(x)\n",
    "        logits = F.log_softmax(logits, dim=1)\n",
    "        return logits"
   ]
  },
  {
   "cell_type": "code",
   "execution_count": 47,
   "id": "f44fc5c9",
   "metadata": {},
   "outputs": [
    {
     "name": "stdout",
     "output_type": "stream",
     "text": [
      "Model: Trained GNN\n",
      "Accuracies: [0.803, 0.8, 0.785]\n",
      "Mean: 0.7960000000000002\n",
      "Standard deviation: 0.007874007874011818\n"
     ]
    }
   ],
   "source": [
    "def calculate_trained_gnn_accuracy(model, x, y, mask, edge_index):\n",
    "    model.eval()\n",
    "    correct = 0\n",
    "    total = 0\n",
    "    pred = model(x, edge_index).max(dim=1)[1]\n",
    "    correct += (pred[mask]).eq(y[mask]).sum().item()\n",
    "    total += torch.sum(mask).item()\n",
    "    return correct / total\n",
    "\n",
    "def use_trained_gnn(run):\n",
    "    # model and optimizer\n",
    "    gnn_train = GNN_Refined(dataset.num_features, 64, dataset.num_classes, 2)\n",
    "    optimizer = torch.optim.Adam(gnn_train.parameters(), lr=0.01, weight_decay=5e-4)\n",
    "\n",
    "    # train\n",
    "    for epoch in range(500):\n",
    "        gnn_train.train()\n",
    "        feature, edge_index, label = data.x, data.edge_index, data.y\n",
    "        pred = gnn_train(feature, edge_index)\n",
    "        loss = F.nll_loss(pred[data.train_mask], label[data.train_mask])\n",
    "        optimizer.zero_grad()\n",
    "        loss.backward()\n",
    "        optimizer.step()\n",
    "\n",
    "        # valid\n",
    "        # if (epoch + 1) % 20 == 0:\n",
    "        #     accuracy = calculate_trained_gnn_accuracy(gnn_train, data.x, data.y, data.val_mask, data.edge_index)\n",
    "        #     print(\"Run: {}\\tEpoch: {}\\tValidation accuracy: {}\".format(run + 1, epoch + 1, accuracy))\n",
    "\n",
    "    # test\n",
    "    accuracy = calculate_trained_gnn_accuracy(gnn_train, data.x, data.y, data.test_mask, data.edge_index)\n",
    "    accuracies.append(accuracy)\n",
    "\n",
    "num_runs = 3\n",
    "accuracies = []\n",
    "\n",
    "for run in range(num_runs):\n",
    "    torch.manual_seed(run)\n",
    "    use_trained_gnn(run)\n",
    "print(\"Model: Trained GNN\")\n",
    "print(\"Accuracies: {}\".format(accuracies))\n",
    "print(\"Mean: {}\".format(np.mean(accuracies)))\n",
    "print(\"Standard deviation: {}\".format(np.std(accuracies)))"
   ]
  }
 ],
 "metadata": {
  "kernelspec": {
   "display_name": "Python 3 (ipykernel)",
   "language": "python",
   "name": "python3"
  },
  "language_info": {
   "codemirror_mode": {
    "name": "ipython",
    "version": 3
   },
   "file_extension": ".py",
   "mimetype": "text/x-python",
   "name": "python",
   "nbconvert_exporter": "python",
   "pygments_lexer": "ipython3",
   "version": "3.9.18"
  }
 },
 "nbformat": 4,
 "nbformat_minor": 5
}
